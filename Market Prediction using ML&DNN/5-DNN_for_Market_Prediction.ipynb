{
 "cells": [
  {
   "cell_type": "code",
   "execution_count": 1,
   "id": "fc746e16",
   "metadata": {},
   "outputs": [],
   "source": [
    "import numpy as np\n",
    "import pandas as pd"
   ]
  },
  {
   "cell_type": "code",
   "execution_count": 2,
   "id": "e58fd57b",
   "metadata": {},
   "outputs": [],
   "source": [
    "hours = np.array([0.5, 0.75, 1., 1.25, 1.5, 1.75, 1.75, 2.,\n",
    " 2.25, 2.5, 2.75, 3., 3.25, 3.5, 4., 4.25,\n",
    " 4.5, 4.75, 5., 5.5])\n",
    "success = np.array([0, 0, 0, 0, 0, 0, 1, 0, 1, 0, 1, 0, 1,\n",
    " 0, 1, 1, 1, 1, 1, 1])"
   ]
  },
  {
   "cell_type": "code",
   "execution_count": 20,
   "id": "6a781691",
   "metadata": {},
   "outputs": [],
   "source": [
    "d=pd.DataFrame({'hours':hours,'success':success})"
   ]
  },
  {
   "cell_type": "code",
   "execution_count": 22,
   "id": "1e9310ec",
   "metadata": {},
   "outputs": [
    {
     "data": {
      "text/html": [
       "<div>\n",
       "<style scoped>\n",
       "    .dataframe tbody tr th:only-of-type {\n",
       "        vertical-align: middle;\n",
       "    }\n",
       "\n",
       "    .dataframe tbody tr th {\n",
       "        vertical-align: top;\n",
       "    }\n",
       "\n",
       "    .dataframe thead th {\n",
       "        text-align: right;\n",
       "    }\n",
       "</style>\n",
       "<table border=\"1\" class=\"dataframe\">\n",
       "  <thead>\n",
       "    <tr style=\"text-align: right;\">\n",
       "      <th></th>\n",
       "      <th>hours</th>\n",
       "      <th>success</th>\n",
       "    </tr>\n",
       "  </thead>\n",
       "  <tbody>\n",
       "    <tr>\n",
       "      <th>0</th>\n",
       "      <td>0.50</td>\n",
       "      <td>0</td>\n",
       "    </tr>\n",
       "    <tr>\n",
       "      <th>1</th>\n",
       "      <td>0.75</td>\n",
       "      <td>0</td>\n",
       "    </tr>\n",
       "    <tr>\n",
       "      <th>2</th>\n",
       "      <td>1.00</td>\n",
       "      <td>0</td>\n",
       "    </tr>\n",
       "    <tr>\n",
       "      <th>3</th>\n",
       "      <td>1.25</td>\n",
       "      <td>0</td>\n",
       "    </tr>\n",
       "    <tr>\n",
       "      <th>4</th>\n",
       "      <td>1.50</td>\n",
       "      <td>0</td>\n",
       "    </tr>\n",
       "  </tbody>\n",
       "</table>\n",
       "</div>"
      ],
      "text/plain": [
       "   hours  success\n",
       "0   0.50        0\n",
       "1   0.75        0\n",
       "2   1.00        0\n",
       "3   1.25        0\n",
       "4   1.50        0"
      ]
     },
     "execution_count": 22,
     "metadata": {},
     "output_type": "execute_result"
    }
   ],
   "source": [
    "d.head()"
   ]
  },
  {
   "cell_type": "code",
   "execution_count": 23,
   "id": "57046270",
   "metadata": {},
   "outputs": [
    {
     "name": "stdout",
     "output_type": "stream",
     "text": [
      "<class 'pandas.core.frame.DataFrame'>\n",
      "RangeIndex: 20 entries, 0 to 19\n",
      "Data columns (total 2 columns):\n",
      " #   Column   Non-Null Count  Dtype  \n",
      "---  ------   --------------  -----  \n",
      " 0   hours    20 non-null     float64\n",
      " 1   success  20 non-null     int32  \n",
      "dtypes: float64(1), int32(1)\n",
      "memory usage: 368.0 bytes\n"
     ]
    }
   ],
   "source": [
    "d.info()"
   ]
  },
  {
   "cell_type": "code",
   "execution_count": 24,
   "id": "abf99d2e",
   "metadata": {},
   "outputs": [],
   "source": [
    "from sklearn.neural_network import MLPClassifier\n",
    "model=MLPClassifier(hidden_layer_sizes=[32],max_iter=1000,random_state=100)\n"
   ]
  },
  {
   "cell_type": "code",
   "execution_count": 29,
   "id": "def05e57",
   "metadata": {},
   "outputs": [
    {
     "data": {
      "text/html": [
       "<style>#sk-container-id-1 {color: black;background-color: white;}#sk-container-id-1 pre{padding: 0;}#sk-container-id-1 div.sk-toggleable {background-color: white;}#sk-container-id-1 label.sk-toggleable__label {cursor: pointer;display: block;width: 100%;margin-bottom: 0;padding: 0.3em;box-sizing: border-box;text-align: center;}#sk-container-id-1 label.sk-toggleable__label-arrow:before {content: \"▸\";float: left;margin-right: 0.25em;color: #696969;}#sk-container-id-1 label.sk-toggleable__label-arrow:hover:before {color: black;}#sk-container-id-1 div.sk-estimator:hover label.sk-toggleable__label-arrow:before {color: black;}#sk-container-id-1 div.sk-toggleable__content {max-height: 0;max-width: 0;overflow: hidden;text-align: left;background-color: #f0f8ff;}#sk-container-id-1 div.sk-toggleable__content pre {margin: 0.2em;color: black;border-radius: 0.25em;background-color: #f0f8ff;}#sk-container-id-1 input.sk-toggleable__control:checked~div.sk-toggleable__content {max-height: 200px;max-width: 100%;overflow: auto;}#sk-container-id-1 input.sk-toggleable__control:checked~label.sk-toggleable__label-arrow:before {content: \"▾\";}#sk-container-id-1 div.sk-estimator input.sk-toggleable__control:checked~label.sk-toggleable__label {background-color: #d4ebff;}#sk-container-id-1 div.sk-label input.sk-toggleable__control:checked~label.sk-toggleable__label {background-color: #d4ebff;}#sk-container-id-1 input.sk-hidden--visually {border: 0;clip: rect(1px 1px 1px 1px);clip: rect(1px, 1px, 1px, 1px);height: 1px;margin: -1px;overflow: hidden;padding: 0;position: absolute;width: 1px;}#sk-container-id-1 div.sk-estimator {font-family: monospace;background-color: #f0f8ff;border: 1px dotted black;border-radius: 0.25em;box-sizing: border-box;margin-bottom: 0.5em;}#sk-container-id-1 div.sk-estimator:hover {background-color: #d4ebff;}#sk-container-id-1 div.sk-parallel-item::after {content: \"\";width: 100%;border-bottom: 1px solid gray;flex-grow: 1;}#sk-container-id-1 div.sk-label:hover label.sk-toggleable__label {background-color: #d4ebff;}#sk-container-id-1 div.sk-serial::before {content: \"\";position: absolute;border-left: 1px solid gray;box-sizing: border-box;top: 0;bottom: 0;left: 50%;z-index: 0;}#sk-container-id-1 div.sk-serial {display: flex;flex-direction: column;align-items: center;background-color: white;padding-right: 0.2em;padding-left: 0.2em;position: relative;}#sk-container-id-1 div.sk-item {position: relative;z-index: 1;}#sk-container-id-1 div.sk-parallel {display: flex;align-items: stretch;justify-content: center;background-color: white;position: relative;}#sk-container-id-1 div.sk-item::before, #sk-container-id-1 div.sk-parallel-item::before {content: \"\";position: absolute;border-left: 1px solid gray;box-sizing: border-box;top: 0;bottom: 0;left: 50%;z-index: -1;}#sk-container-id-1 div.sk-parallel-item {display: flex;flex-direction: column;z-index: 1;position: relative;background-color: white;}#sk-container-id-1 div.sk-parallel-item:first-child::after {align-self: flex-end;width: 50%;}#sk-container-id-1 div.sk-parallel-item:last-child::after {align-self: flex-start;width: 50%;}#sk-container-id-1 div.sk-parallel-item:only-child::after {width: 0;}#sk-container-id-1 div.sk-dashed-wrapped {border: 1px dashed gray;margin: 0 0.4em 0.5em 0.4em;box-sizing: border-box;padding-bottom: 0.4em;background-color: white;}#sk-container-id-1 div.sk-label label {font-family: monospace;font-weight: bold;display: inline-block;line-height: 1.2em;}#sk-container-id-1 div.sk-label-container {text-align: center;}#sk-container-id-1 div.sk-container {/* jupyter's `normalize.less` sets `[hidden] { display: none; }` but bootstrap.min.css set `[hidden] { display: none !important; }` so we also need the `!important` here to be able to override the default hidden behavior on the sphinx rendered scikit-learn.org. See: https://github.com/scikit-learn/scikit-learn/issues/21755 */display: inline-block !important;position: relative;}#sk-container-id-1 div.sk-text-repr-fallback {display: none;}</style><div id=\"sk-container-id-1\" class=\"sk-top-container\"><div class=\"sk-text-repr-fallback\"><pre>MLPClassifier(hidden_layer_sizes=[32], max_iter=1000, random_state=100)</pre><b>In a Jupyter environment, please rerun this cell to show the HTML representation or trust the notebook. <br />On GitHub, the HTML representation is unable to render, please try loading this page with nbviewer.org.</b></div><div class=\"sk-container\" hidden><div class=\"sk-item\"><div class=\"sk-estimator sk-toggleable\"><input class=\"sk-toggleable__control sk-hidden--visually\" id=\"sk-estimator-id-1\" type=\"checkbox\" checked><label for=\"sk-estimator-id-1\" class=\"sk-toggleable__label sk-toggleable__label-arrow\">MLPClassifier</label><div class=\"sk-toggleable__content\"><pre>MLPClassifier(hidden_layer_sizes=[32], max_iter=1000, random_state=100)</pre></div></div></div></div></div>"
      ],
      "text/plain": [
       "MLPClassifier(hidden_layer_sizes=[32], max_iter=1000, random_state=100)"
      ]
     },
     "execution_count": 29,
     "metadata": {},
     "output_type": "execute_result"
    }
   ],
   "source": [
    "model.fit(d.hours.values.reshape(-1,1),d.success)"
   ]
  },
  {
   "cell_type": "code",
   "execution_count": 30,
   "id": "0ad7aa38",
   "metadata": {},
   "outputs": [
    {
     "data": {
      "text/html": [
       "<style>#sk-container-id-2 {color: black;background-color: white;}#sk-container-id-2 pre{padding: 0;}#sk-container-id-2 div.sk-toggleable {background-color: white;}#sk-container-id-2 label.sk-toggleable__label {cursor: pointer;display: block;width: 100%;margin-bottom: 0;padding: 0.3em;box-sizing: border-box;text-align: center;}#sk-container-id-2 label.sk-toggleable__label-arrow:before {content: \"▸\";float: left;margin-right: 0.25em;color: #696969;}#sk-container-id-2 label.sk-toggleable__label-arrow:hover:before {color: black;}#sk-container-id-2 div.sk-estimator:hover label.sk-toggleable__label-arrow:before {color: black;}#sk-container-id-2 div.sk-toggleable__content {max-height: 0;max-width: 0;overflow: hidden;text-align: left;background-color: #f0f8ff;}#sk-container-id-2 div.sk-toggleable__content pre {margin: 0.2em;color: black;border-radius: 0.25em;background-color: #f0f8ff;}#sk-container-id-2 input.sk-toggleable__control:checked~div.sk-toggleable__content {max-height: 200px;max-width: 100%;overflow: auto;}#sk-container-id-2 input.sk-toggleable__control:checked~label.sk-toggleable__label-arrow:before {content: \"▾\";}#sk-container-id-2 div.sk-estimator input.sk-toggleable__control:checked~label.sk-toggleable__label {background-color: #d4ebff;}#sk-container-id-2 div.sk-label input.sk-toggleable__control:checked~label.sk-toggleable__label {background-color: #d4ebff;}#sk-container-id-2 input.sk-hidden--visually {border: 0;clip: rect(1px 1px 1px 1px);clip: rect(1px, 1px, 1px, 1px);height: 1px;margin: -1px;overflow: hidden;padding: 0;position: absolute;width: 1px;}#sk-container-id-2 div.sk-estimator {font-family: monospace;background-color: #f0f8ff;border: 1px dotted black;border-radius: 0.25em;box-sizing: border-box;margin-bottom: 0.5em;}#sk-container-id-2 div.sk-estimator:hover {background-color: #d4ebff;}#sk-container-id-2 div.sk-parallel-item::after {content: \"\";width: 100%;border-bottom: 1px solid gray;flex-grow: 1;}#sk-container-id-2 div.sk-label:hover label.sk-toggleable__label {background-color: #d4ebff;}#sk-container-id-2 div.sk-serial::before {content: \"\";position: absolute;border-left: 1px solid gray;box-sizing: border-box;top: 0;bottom: 0;left: 50%;z-index: 0;}#sk-container-id-2 div.sk-serial {display: flex;flex-direction: column;align-items: center;background-color: white;padding-right: 0.2em;padding-left: 0.2em;position: relative;}#sk-container-id-2 div.sk-item {position: relative;z-index: 1;}#sk-container-id-2 div.sk-parallel {display: flex;align-items: stretch;justify-content: center;background-color: white;position: relative;}#sk-container-id-2 div.sk-item::before, #sk-container-id-2 div.sk-parallel-item::before {content: \"\";position: absolute;border-left: 1px solid gray;box-sizing: border-box;top: 0;bottom: 0;left: 50%;z-index: -1;}#sk-container-id-2 div.sk-parallel-item {display: flex;flex-direction: column;z-index: 1;position: relative;background-color: white;}#sk-container-id-2 div.sk-parallel-item:first-child::after {align-self: flex-end;width: 50%;}#sk-container-id-2 div.sk-parallel-item:last-child::after {align-self: flex-start;width: 50%;}#sk-container-id-2 div.sk-parallel-item:only-child::after {width: 0;}#sk-container-id-2 div.sk-dashed-wrapped {border: 1px dashed gray;margin: 0 0.4em 0.5em 0.4em;box-sizing: border-box;padding-bottom: 0.4em;background-color: white;}#sk-container-id-2 div.sk-label label {font-family: monospace;font-weight: bold;display: inline-block;line-height: 1.2em;}#sk-container-id-2 div.sk-label-container {text-align: center;}#sk-container-id-2 div.sk-container {/* jupyter's `normalize.less` sets `[hidden] { display: none; }` but bootstrap.min.css set `[hidden] { display: none !important; }` so we also need the `!important` here to be able to override the default hidden behavior on the sphinx rendered scikit-learn.org. See: https://github.com/scikit-learn/scikit-learn/issues/21755 */display: inline-block !important;position: relative;}#sk-container-id-2 div.sk-text-repr-fallback {display: none;}</style><div id=\"sk-container-id-2\" class=\"sk-top-container\"><div class=\"sk-text-repr-fallback\"><pre>MLPClassifier(hidden_layer_sizes=[32], max_iter=1000, random_state=100)</pre><b>In a Jupyter environment, please rerun this cell to show the HTML representation or trust the notebook. <br />On GitHub, the HTML representation is unable to render, please try loading this page with nbviewer.org.</b></div><div class=\"sk-container\" hidden><div class=\"sk-item\"><div class=\"sk-estimator sk-toggleable\"><input class=\"sk-toggleable__control sk-hidden--visually\" id=\"sk-estimator-id-2\" type=\"checkbox\" checked><label for=\"sk-estimator-id-2\" class=\"sk-toggleable__label sk-toggleable__label-arrow\">MLPClassifier</label><div class=\"sk-toggleable__content\"><pre>MLPClassifier(hidden_layer_sizes=[32], max_iter=1000, random_state=100)</pre></div></div></div></div></div>"
      ],
      "text/plain": [
       "MLPClassifier(hidden_layer_sizes=[32], max_iter=1000, random_state=100)"
      ]
     },
     "execution_count": 30,
     "metadata": {},
     "output_type": "execute_result"
    }
   ],
   "source": [
    "model\n"
   ]
  },
  {
   "cell_type": "code",
   "execution_count": 31,
   "id": "1ed786da",
   "metadata": {},
   "outputs": [],
   "source": [
    "d['prediction']=model.predict(d.hours.values.reshape(-1,1))"
   ]
  },
  {
   "cell_type": "code",
   "execution_count": 32,
   "id": "1abd82ef",
   "metadata": {},
   "outputs": [
    {
     "data": {
      "text/html": [
       "<div>\n",
       "<style scoped>\n",
       "    .dataframe tbody tr th:only-of-type {\n",
       "        vertical-align: middle;\n",
       "    }\n",
       "\n",
       "    .dataframe tbody tr th {\n",
       "        vertical-align: top;\n",
       "    }\n",
       "\n",
       "    .dataframe thead th {\n",
       "        text-align: right;\n",
       "    }\n",
       "</style>\n",
       "<table border=\"1\" class=\"dataframe\">\n",
       "  <thead>\n",
       "    <tr style=\"text-align: right;\">\n",
       "      <th></th>\n",
       "      <th>hours</th>\n",
       "      <th>success</th>\n",
       "      <th>prediction</th>\n",
       "    </tr>\n",
       "  </thead>\n",
       "  <tbody>\n",
       "    <tr>\n",
       "      <th>15</th>\n",
       "      <td>4.25</td>\n",
       "      <td>1</td>\n",
       "      <td>1</td>\n",
       "    </tr>\n",
       "    <tr>\n",
       "      <th>16</th>\n",
       "      <td>4.50</td>\n",
       "      <td>1</td>\n",
       "      <td>1</td>\n",
       "    </tr>\n",
       "    <tr>\n",
       "      <th>17</th>\n",
       "      <td>4.75</td>\n",
       "      <td>1</td>\n",
       "      <td>1</td>\n",
       "    </tr>\n",
       "    <tr>\n",
       "      <th>18</th>\n",
       "      <td>5.00</td>\n",
       "      <td>1</td>\n",
       "      <td>1</td>\n",
       "    </tr>\n",
       "    <tr>\n",
       "      <th>19</th>\n",
       "      <td>5.50</td>\n",
       "      <td>1</td>\n",
       "      <td>1</td>\n",
       "    </tr>\n",
       "  </tbody>\n",
       "</table>\n",
       "</div>"
      ],
      "text/plain": [
       "    hours  success  prediction\n",
       "15   4.25        1           1\n",
       "16   4.50        1           1\n",
       "17   4.75        1           1\n",
       "18   5.00        1           1\n",
       "19   5.50        1           1"
      ]
     },
     "execution_count": 32,
     "metadata": {},
     "output_type": "execute_result"
    }
   ],
   "source": [
    "d.tail()"
   ]
  },
  {
   "cell_type": "code",
   "execution_count": 33,
   "id": "302d7d11",
   "metadata": {},
   "outputs": [
    {
     "data": {
      "text/plain": [
       "<AxesSubplot:xlabel='hours'>"
      ]
     },
     "execution_count": 33,
     "metadata": {},
     "output_type": "execute_result"
    },
    {
     "data": {
      "image/png": "[encoded data removed]",
      "text/plain": [
       "<Figure size 720x432 with 1 Axes>"
      ]
     },
     "metadata": {
      "needs_background": "light"
     },
     "output_type": "display_data"
    }
   ],
   "source": [
    "d.plot(x='hours',y=['success','prediction'],style=['ro','b-'],ylim=[-0.1,1.1],figsize=(10,6))"
   ]
  },
  {
   "cell_type": "code",
   "execution_count": 277,
   "id": "8e013f10",
   "metadata": {},
   "outputs": [],
   "source": [
    "raw=pd.read_csv('aiif_eikon_eod_data.csv',parse_dates=True,index_col=0)\n",
    "data=pd.DataFrame(raw['EUR='])"
   ]
  },
  {
   "cell_type": "code",
   "execution_count": 278,
   "id": "e764269c",
   "metadata": {},
   "outputs": [],
   "source": [
    "data.rename(columns={'EUR=':'price'},inplace=True)"
   ]
  },
  {
   "cell_type": "code",
   "execution_count": 279,
   "id": "6bf210ae",
   "metadata": {},
   "outputs": [
    {
     "data": {
      "text/html": [
       "<div>\n",
       "<style scoped>\n",
       "    .dataframe tbody tr th:only-of-type {\n",
       "        vertical-align: middle;\n",
       "    }\n",
       "\n",
       "    .dataframe tbody tr th {\n",
       "        vertical-align: top;\n",
       "    }\n",
       "\n",
       "    .dataframe thead th {\n",
       "        text-align: right;\n",
       "    }\n",
       "</style>\n",
       "<table border=\"1\" class=\"dataframe\">\n",
       "  <thead>\n",
       "    <tr style=\"text-align: right;\">\n",
       "      <th></th>\n",
       "      <th>price</th>\n",
       "    </tr>\n",
       "    <tr>\n",
       "      <th>Date</th>\n",
       "      <th></th>\n",
       "    </tr>\n",
       "  </thead>\n",
       "  <tbody>\n",
       "    <tr>\n",
       "      <th>2010-01-01</th>\n",
       "      <td>1.4323</td>\n",
       "    </tr>\n",
       "    <tr>\n",
       "      <th>2010-01-04</th>\n",
       "      <td>1.4411</td>\n",
       "    </tr>\n",
       "    <tr>\n",
       "      <th>2010-01-05</th>\n",
       "      <td>1.4368</td>\n",
       "    </tr>\n",
       "    <tr>\n",
       "      <th>2010-01-06</th>\n",
       "      <td>1.4412</td>\n",
       "    </tr>\n",
       "    <tr>\n",
       "      <th>2010-01-07</th>\n",
       "      <td>1.4318</td>\n",
       "    </tr>\n",
       "  </tbody>\n",
       "</table>\n",
       "</div>"
      ],
      "text/plain": [
       "             price\n",
       "Date              \n",
       "2010-01-01  1.4323\n",
       "2010-01-04  1.4411\n",
       "2010-01-05  1.4368\n",
       "2010-01-06  1.4412\n",
       "2010-01-07  1.4318"
      ]
     },
     "execution_count": 279,
     "metadata": {},
     "output_type": "execute_result"
    }
   ],
   "source": [
    "data.head()"
   ]
  },
  {
   "cell_type": "code",
   "execution_count": 280,
   "id": "9345a5ca",
   "metadata": {},
   "outputs": [],
   "source": [
    "data['return']=np.log(data.price/data.price.shift(1))\n"
   ]
  },
  {
   "cell_type": "code",
   "execution_count": 281,
   "id": "13dc4022",
   "metadata": {},
   "outputs": [],
   "source": [
    "data['direction']=np.where(data['return']>0,1,0)"
   ]
  },
  {
   "cell_type": "code",
   "execution_count": 282,
   "id": "a559f330",
   "metadata": {},
   "outputs": [],
   "source": [
    "lags=5"
   ]
  },
  {
   "cell_type": "code",
   "execution_count": 283,
   "id": "caf80565",
   "metadata": {},
   "outputs": [],
   "source": [
    "col=[]\n",
    "for lag in range(1,lags+1):\n",
    "    s=f\"lag_{lag}\"\n",
    "    col.append(s)\n",
    "    data[s]=data['return'].shift(lag)\n",
    "\n",
    "data.dropna(inplace=True)"
   ]
  },
  {
   "cell_type": "code",
   "execution_count": 284,
   "id": "1fa7c529",
   "metadata": {},
   "outputs": [
    {
     "data": {
      "text/html": [
       "<div>\n",
       "<style scoped>\n",
       "    .dataframe tbody tr th:only-of-type {\n",
       "        vertical-align: middle;\n",
       "    }\n",
       "\n",
       "    .dataframe tbody tr th {\n",
       "        vertical-align: top;\n",
       "    }\n",
       "\n",
       "    .dataframe thead th {\n",
       "        text-align: right;\n",
       "    }\n",
       "</style>\n",
       "<table border=\"1\" class=\"dataframe\">\n",
       "  <thead>\n",
       "    <tr style=\"text-align: right;\">\n",
       "      <th></th>\n",
       "      <th>price</th>\n",
       "      <th>return</th>\n",
       "      <th>direction</th>\n",
       "      <th>lag_1</th>\n",
       "      <th>lag_2</th>\n",
       "      <th>lag_3</th>\n",
       "      <th>lag_4</th>\n",
       "      <th>lag_5</th>\n",
       "    </tr>\n",
       "    <tr>\n",
       "      <th>Date</th>\n",
       "      <th></th>\n",
       "      <th></th>\n",
       "      <th></th>\n",
       "      <th></th>\n",
       "      <th></th>\n",
       "      <th></th>\n",
       "      <th></th>\n",
       "      <th></th>\n",
       "    </tr>\n",
       "  </thead>\n",
       "  <tbody>\n",
       "    <tr>\n",
       "      <th>2019-12-26</th>\n",
       "      <td>1.1096</td>\n",
       "      <td>0.0005</td>\n",
       "      <td>1</td>\n",
       "      <td>0.0003</td>\n",
       "      <td>0.0001</td>\n",
       "      <td>0.0007</td>\n",
       "      <td>-0.0038</td>\n",
       "      <td>0.0008</td>\n",
       "    </tr>\n",
       "    <tr>\n",
       "      <th>2019-12-27</th>\n",
       "      <td>1.1175</td>\n",
       "      <td>0.0071</td>\n",
       "      <td>1</td>\n",
       "      <td>0.0005</td>\n",
       "      <td>0.0003</td>\n",
       "      <td>0.0001</td>\n",
       "      <td>0.0007</td>\n",
       "      <td>-0.0038</td>\n",
       "    </tr>\n",
       "    <tr>\n",
       "      <th>2019-12-30</th>\n",
       "      <td>1.1197</td>\n",
       "      <td>0.0020</td>\n",
       "      <td>1</td>\n",
       "      <td>0.0071</td>\n",
       "      <td>0.0005</td>\n",
       "      <td>0.0003</td>\n",
       "      <td>0.0001</td>\n",
       "      <td>0.0007</td>\n",
       "    </tr>\n",
       "    <tr>\n",
       "      <th>2019-12-31</th>\n",
       "      <td>1.1210</td>\n",
       "      <td>0.0012</td>\n",
       "      <td>1</td>\n",
       "      <td>0.0020</td>\n",
       "      <td>0.0071</td>\n",
       "      <td>0.0005</td>\n",
       "      <td>0.0003</td>\n",
       "      <td>0.0001</td>\n",
       "    </tr>\n",
       "    <tr>\n",
       "      <th>2020-01-01</th>\n",
       "      <td>1.1210</td>\n",
       "      <td>0.0000</td>\n",
       "      <td>0</td>\n",
       "      <td>0.0012</td>\n",
       "      <td>0.0020</td>\n",
       "      <td>0.0071</td>\n",
       "      <td>0.0005</td>\n",
       "      <td>0.0003</td>\n",
       "    </tr>\n",
       "  </tbody>\n",
       "</table>\n",
       "</div>"
      ],
      "text/plain": [
       "             price  return  direction   lag_1   lag_2   lag_3   lag_4   lag_5\n",
       "Date                                                                         \n",
       "2019-12-26  1.1096  0.0005          1  0.0003  0.0001  0.0007 -0.0038  0.0008\n",
       "2019-12-27  1.1175  0.0071          1  0.0005  0.0003  0.0001  0.0007 -0.0038\n",
       "2019-12-30  1.1197  0.0020          1  0.0071  0.0005  0.0003  0.0001  0.0007\n",
       "2019-12-31  1.1210  0.0012          1  0.0020  0.0071  0.0005  0.0003  0.0001\n",
       "2020-01-01  1.1210  0.0000          0  0.0012  0.0020  0.0071  0.0005  0.0003"
      ]
     },
     "execution_count": 284,
     "metadata": {},
     "output_type": "execute_result"
    }
   ],
   "source": [
    "data.round(4).tail()"
   ]
  },
  {
   "cell_type": "code",
   "execution_count": 285,
   "id": "0b2e3ebf",
   "metadata": {},
   "outputs": [],
   "source": [
    "import tensorflow as tf\n",
    "from keras.models import Sequential\n",
    "from keras.layers import Dense\n",
    "from keras.optimizers import Adam,RMSprop\n",
    "import random\n",
    "def setseeds(seed=100):\n",
    "    random.seed(seed)\n",
    "    np.random.seed(seed)\n",
    "    tf.random.set_seed(seed)"
   ]
  },
  {
   "cell_type": "code",
   "execution_count": 286,
   "id": "b196646c",
   "metadata": {},
   "outputs": [],
   "source": [
    "optimizer=Adam(learning_rate=0.0001)"
   ]
  },
  {
   "cell_type": "code",
   "execution_count": 287,
   "id": "736c492d",
   "metadata": {},
   "outputs": [],
   "source": [
    "setseeds()"
   ]
  },
  {
   "cell_type": "code",
   "execution_count": 288,
   "id": "1161d8af",
   "metadata": {},
   "outputs": [],
   "source": [
    "model=Sequential()"
   ]
  },
  {
   "cell_type": "code",
   "execution_count": 289,
   "id": "4dd9ca46",
   "metadata": {},
   "outputs": [],
   "source": [
    "model = Sequential() \n",
    "model.add(Dense(64, activation='relu',\n",
    " input_shape=(lags,))) \n",
    "model.add(Dense(64, activation='relu')) \n",
    "model.add(Dense(1, activation='sigmoid'))\n",
    "model.compile(optimizer=optimizer,\n",
    " loss='binary_crossentropy',\n",
    " metrics=['accuracy'])"
   ]
  },
  {
   "cell_type": "code",
   "execution_count": 290,
   "id": "3a055898",
   "metadata": {},
   "outputs": [],
   "source": [
    "cutoff='2017-12-31'"
   ]
  },
  {
   "cell_type": "code",
   "execution_count": 264,
   "id": "9b15be3c",
   "metadata": {},
   "outputs": [],
   "source": [
    "training_data=data[data.index<cutoff].copy()"
   ]
  },
  {
   "cell_type": "code",
   "execution_count": 291,
   "id": "09db4e49",
   "metadata": {},
   "outputs": [
    {
     "data": {
      "text/plain": [
       "(price        1.250453\n",
       " return      -0.000088\n",
       " direction    0.501442\n",
       " lag_1       -0.000087\n",
       " lag_2       -0.000093\n",
       " lag_3       -0.000092\n",
       " lag_4       -0.000093\n",
       " lag_5       -0.000091\n",
       " dtype: float64,\n",
       " price        0.116302\n",
       " return       0.005889\n",
       " direction    0.500118\n",
       " lag_1        0.005890\n",
       " lag_2        0.005891\n",
       " lag_3        0.005891\n",
       " lag_4        0.005891\n",
       " lag_5        0.005893\n",
       " dtype: float64)"
      ]
     },
     "execution_count": 291,
     "metadata": {},
     "output_type": "execute_result"
    }
   ],
   "source": [
    "mu,std=training_data.mean(),training_data.std()\n",
    "mu,std"
   ]
  },
  {
   "cell_type": "code",
   "execution_count": 293,
   "id": "ddb71430",
   "metadata": {},
   "outputs": [],
   "source": [
    "training_data_=(training_data-mu)/std"
   ]
  },
  {
   "cell_type": "code",
   "execution_count": 294,
   "id": "35a456e1",
   "metadata": {},
   "outputs": [],
   "source": [
    "test_data=data[data.index>=cutoff].copy()"
   ]
  },
  {
   "cell_type": "code",
   "execution_count": 295,
   "id": "656e462a",
   "metadata": {},
   "outputs": [],
   "source": [
    "test_data_=(test_data-mu)/std"
   ]
  },
  {
   "cell_type": "code",
   "execution_count": 296,
   "id": "3bdcad2f",
   "metadata": {},
   "outputs": [
    {
     "name": "stdout",
     "output_type": "stream",
     "text": [
      "Wall time: 6.18 s\n"
     ]
    },
    {
     "data": {
      "text/plain": [
       "<keras.callbacks.History at 0x274f6a1a8e0>"
      ]
     },
     "execution_count": 296,
     "metadata": {},
     "output_type": "execute_result"
    }
   ],
   "source": [
    "%%time\n",
    "model.fit(training_data[col],\n",
    "         training_data['direction'],epochs=50,verbose=False,validation_split=0.2,shuffle=False)"
   ]
  },
  {
   "cell_type": "code",
   "execution_count": 330,
   "id": "6c3898aa",
   "metadata": {},
   "outputs": [
    {
     "data": {
      "text/html": [
       "<div>\n",
       "<style scoped>\n",
       "    .dataframe tbody tr th:only-of-type {\n",
       "        vertical-align: middle;\n",
       "    }\n",
       "\n",
       "    .dataframe tbody tr th {\n",
       "        vertical-align: top;\n",
       "    }\n",
       "\n",
       "    .dataframe thead th {\n",
       "        text-align: right;\n",
       "    }\n",
       "</style>\n",
       "<table border=\"1\" class=\"dataframe\">\n",
       "  <thead>\n",
       "    <tr style=\"text-align: right;\">\n",
       "      <th></th>\n",
       "    </tr>\n",
       "  </thead>\n",
       "  <tbody>\n",
       "  </tbody>\n",
       "</table>\n",
       "</div>"
      ],
      "text/plain": [
       "Empty DataFrame\n",
       "Columns: []\n",
       "Index: []"
      ]
     },
     "execution_count": 330,
     "metadata": {},
     "output_type": "execute_result"
    }
   ],
   "source": [
    "res=pd.DataFrame(model.history.history)\n",
    "res.head()"
   ]
  },
  {
   "cell_type": "code",
   "execution_count": 300,
   "id": "059543ca",
   "metadata": {},
   "outputs": [
    {
     "data": {
      "text/plain": [
       "<AxesSubplot:title={'center':'accuctracy of the DNN classifier'}>"
      ]
     },
     "execution_count": 300,
     "metadata": {},
     "output_type": "execute_result"
    },
    {
     "data": {
      "image/png": "[encoded data removed]",
      "text/plain": [
       "<Figure size 720x432 with 1 Axes>"
      ]
     },
     "metadata": {
      "needs_background": "light"
     },
     "output_type": "display_data"
    }
   ],
   "source": [
    "res[['accuracy','val_accuracy']].plot(figsize=(10,6),style='--',title=\"accuctracy of the DNN classifier\")"
   ]
  },
  {
   "cell_type": "code",
   "execution_count": 301,
   "id": "127fccb7",
   "metadata": {},
   "outputs": [
    {
     "name": "stdout",
     "output_type": "stream",
     "text": [
      "65/65 [==============================] - 0s 2ms/step - loss: 0.7770 - accuracy: 0.5226\n"
     ]
    },
    {
     "data": {
      "text/plain": [
       "[0.7769842743873596, 0.5225961804389954]"
      ]
     },
     "execution_count": 301,
     "metadata": {},
     "output_type": "execute_result"
    }
   ],
   "source": [
    "model.evaluate(training_data_[col],training_data['direction'])"
   ]
  },
  {
   "cell_type": "code",
   "execution_count": 303,
   "id": "1589f2b1",
   "metadata": {},
   "outputs": [
    {
     "name": "stdout",
     "output_type": "stream",
     "text": [
      "65/65 [==============================] - 0s 2ms/step\n"
     ]
    }
   ],
   "source": [
    "pred=np.where(model.predict(training_data_[col])>0.5,1,0)"
   ]
  },
  {
   "cell_type": "code",
   "execution_count": 305,
   "id": "bac97f5d",
   "metadata": {},
   "outputs": [
    {
     "data": {
      "text/plain": [
       "array([0, 0, 0, 0, 0, 0, 1, 1, 1, 1, 1, 1, 0, 1, 1, 1, 1, 1, 0, 0, 1, 1,\n",
       "       1, 0, 0, 1, 1, 0, 0, 0])"
      ]
     },
     "execution_count": 305,
     "metadata": {},
     "output_type": "execute_result"
    }
   ],
   "source": [
    "pred[:30].flatten()"
   ]
  },
  {
   "cell_type": "code",
   "execution_count": 306,
   "id": "08703c04",
   "metadata": {},
   "outputs": [],
   "source": [
    "training_data['prediction']=np.where(pred>0,1,-1)"
   ]
  },
  {
   "cell_type": "code",
   "execution_count": 308,
   "id": "1ee3ef1b",
   "metadata": {},
   "outputs": [
    {
     "data": {
      "text/plain": [
       "return      0.832362\n",
       "strategy    1.453705\n",
       "dtype: float64"
      ]
     },
     "execution_count": 308,
     "metadata": {},
     "output_type": "execute_result"
    }
   ],
   "source": [
    "training_data['strategy']=(training_data['prediction']*training_data['return'])\n",
    "training_data[['return','strategy']].sum().apply(np.exp)"
   ]
  },
  {
   "cell_type": "code",
   "execution_count": 309,
   "id": "7bbc724d",
   "metadata": {},
   "outputs": [
    {
     "data": {
      "text/plain": [
       "<AxesSubplot:xlabel='Date'>"
      ]
     },
     "execution_count": 309,
     "metadata": {},
     "output_type": "execute_result"
    },
    {
     "data": {
      "image/png": "[encoded data removed]",
      "text/plain": [
       "<Figure size 720x432 with 1 Axes>"
      ]
     },
     "metadata": {
      "needs_background": "light"
     },
     "output_type": "display_data"
    }
   ],
   "source": [
    "training_data[['return','strategy']].cumsum().apply(np.exp).plot(figsize=(10,6))"
   ]
  },
  {
   "cell_type": "code",
   "execution_count": 310,
   "id": "9455e5a8",
   "metadata": {},
   "outputs": [
    {
     "name": "stdout",
     "output_type": "stream",
     "text": [
      "17/17 [==============================] - 0s 3ms/step - loss: 0.7443 - accuracy: 0.5201\n"
     ]
    },
    {
     "data": {
      "text/plain": [
       "[0.7443056702613831, 0.5200764536857605]"
      ]
     },
     "execution_count": 310,
     "metadata": {},
     "output_type": "execute_result"
    }
   ],
   "source": [
    "model.evaluate(test_data_[col],test_data['direction'])"
   ]
  },
  {
   "cell_type": "code",
   "execution_count": 311,
   "id": "fa137ee5",
   "metadata": {},
   "outputs": [
    {
     "name": "stdout",
     "output_type": "stream",
     "text": [
      "17/17 [==============================] - 0s 2ms/step\n"
     ]
    }
   ],
   "source": [
    "pred=np.where(model.predict(test_data_[col])>0.5,1,0)"
   ]
  },
  {
   "cell_type": "code",
   "execution_count": 312,
   "id": "e3f78441",
   "metadata": {},
   "outputs": [],
   "source": [
    "test_data['prediction']=np.where(pred>0,1,-1)"
   ]
  },
  {
   "cell_type": "code",
   "execution_count": 313,
   "id": "2c3160d7",
   "metadata": {},
   "outputs": [
    {
     "data": {
      "text/plain": [
       "-1    322\n",
       " 1    201\n",
       "Name: prediction, dtype: int64"
      ]
     },
     "execution_count": 313,
     "metadata": {},
     "output_type": "execute_result"
    }
   ],
   "source": [
    "test_data.prediction.value_counts()"
   ]
  },
  {
   "cell_type": "code",
   "execution_count": 314,
   "id": "a418ab20",
   "metadata": {},
   "outputs": [],
   "source": [
    "test_data['strategy']=test_data['prediction']*test_data['return']"
   ]
  },
  {
   "cell_type": "code",
   "execution_count": 315,
   "id": "abf92e72",
   "metadata": {},
   "outputs": [
    {
     "data": {
      "text/plain": [
       "return      0.934478\n",
       "strategy    1.086467\n",
       "dtype: float64"
      ]
     },
     "execution_count": 315,
     "metadata": {},
     "output_type": "execute_result"
    }
   ],
   "source": [
    "test_data[['return','strategy']].sum().apply(np.exp)"
   ]
  },
  {
   "cell_type": "code",
   "execution_count": 316,
   "id": "15270dbc",
   "metadata": {},
   "outputs": [
    {
     "data": {
      "text/plain": [
       "<AxesSubplot:xlabel='Date'>"
      ]
     },
     "execution_count": 316,
     "metadata": {},
     "output_type": "execute_result"
    },
    {
     "data": {
      "image/png": "[encoded data removed]",
      "text/plain": [
       "<Figure size 720x432 with 1 Axes>"
      ]
     },
     "metadata": {
      "needs_background": "light"
     },
     "output_type": "display_data"
    }
   ],
   "source": [
    "test_data[['strategy','return']].cumsum().apply(np.exp).plot(figsize=(10,6))"
   ]
  },
  {
   "cell_type": "code",
   "execution_count": 378,
   "id": "02a83345",
   "metadata": {},
   "outputs": [
    {
     "data": {
      "text/html": [
       "<div>\n",
       "<style scoped>\n",
       "    .dataframe tbody tr th:only-of-type {\n",
       "        vertical-align: middle;\n",
       "    }\n",
       "\n",
       "    .dataframe tbody tr th {\n",
       "        vertical-align: top;\n",
       "    }\n",
       "\n",
       "    .dataframe thead th {\n",
       "        text-align: right;\n",
       "    }\n",
       "</style>\n",
       "<table border=\"1\" class=\"dataframe\">\n",
       "  <thead>\n",
       "    <tr style=\"text-align: right;\">\n",
       "      <th></th>\n",
       "      <th>price</th>\n",
       "      <th>return</th>\n",
       "      <th>direction</th>\n",
       "      <th>lag_1</th>\n",
       "      <th>lag_2</th>\n",
       "      <th>lag_3</th>\n",
       "      <th>lag_4</th>\n",
       "      <th>lag_5</th>\n",
       "      <th>momentum</th>\n",
       "      <th>volatility</th>\n",
       "      <th>distance</th>\n",
       "    </tr>\n",
       "    <tr>\n",
       "      <th>Date</th>\n",
       "      <th></th>\n",
       "      <th></th>\n",
       "      <th></th>\n",
       "      <th></th>\n",
       "      <th></th>\n",
       "      <th></th>\n",
       "      <th></th>\n",
       "      <th></th>\n",
       "      <th></th>\n",
       "      <th></th>\n",
       "      <th></th>\n",
       "    </tr>\n",
       "  </thead>\n",
       "  <tbody>\n",
       "    <tr>\n",
       "      <th>2010-03-22</th>\n",
       "      <td>1.3555</td>\n",
       "      <td>0.001772</td>\n",
       "      <td>1</td>\n",
       "      <td>-0.005528</td>\n",
       "      <td>-0.009582</td>\n",
       "      <td>-0.002327</td>\n",
       "      <td>0.006997</td>\n",
       "      <td>-0.006415</td>\n",
       "      <td>-0.003371</td>\n",
       "      <td>0.005262</td>\n",
       "      <td>-0.030572</td>\n",
       "    </tr>\n",
       "    <tr>\n",
       "      <th>2010-03-23</th>\n",
       "      <td>1.3498</td>\n",
       "      <td>-0.004214</td>\n",
       "      <td>0</td>\n",
       "      <td>0.001772</td>\n",
       "      <td>-0.005528</td>\n",
       "      <td>-0.009582</td>\n",
       "      <td>-0.002327</td>\n",
       "      <td>0.006997</td>\n",
       "      <td>-0.001734</td>\n",
       "      <td>0.005276</td>\n",
       "      <td>-0.026256</td>\n",
       "    </tr>\n",
       "    <tr>\n",
       "      <th>2010-03-24</th>\n",
       "      <td>1.3313</td>\n",
       "      <td>-0.013801</td>\n",
       "      <td>0</td>\n",
       "      <td>-0.004214</td>\n",
       "      <td>0.001772</td>\n",
       "      <td>-0.005528</td>\n",
       "      <td>-0.009582</td>\n",
       "      <td>-0.002327</td>\n",
       "      <td>-0.003976</td>\n",
       "      <td>0.005135</td>\n",
       "      <td>-0.029964</td>\n",
       "    </tr>\n",
       "    <tr>\n",
       "      <th>2010-03-25</th>\n",
       "      <td>1.3278</td>\n",
       "      <td>-0.002632</td>\n",
       "      <td>0</td>\n",
       "      <td>-0.013801</td>\n",
       "      <td>-0.004214</td>\n",
       "      <td>0.001772</td>\n",
       "      <td>-0.005528</td>\n",
       "      <td>-0.009582</td>\n",
       "      <td>-0.006270</td>\n",
       "      <td>0.005960</td>\n",
       "      <td>-0.046070</td>\n",
       "    </tr>\n",
       "    <tr>\n",
       "      <th>2010-03-26</th>\n",
       "      <td>1.3410</td>\n",
       "      <td>0.009892</td>\n",
       "      <td>1</td>\n",
       "      <td>-0.002632</td>\n",
       "      <td>-0.013801</td>\n",
       "      <td>-0.004214</td>\n",
       "      <td>0.001772</td>\n",
       "      <td>-0.005528</td>\n",
       "      <td>-0.004880</td>\n",
       "      <td>0.005940</td>\n",
       "      <td>-0.047122</td>\n",
       "    </tr>\n",
       "    <tr>\n",
       "      <th>...</th>\n",
       "      <td>...</td>\n",
       "      <td>...</td>\n",
       "      <td>...</td>\n",
       "      <td>...</td>\n",
       "      <td>...</td>\n",
       "      <td>...</td>\n",
       "      <td>...</td>\n",
       "      <td>...</td>\n",
       "      <td>...</td>\n",
       "      <td>...</td>\n",
       "      <td>...</td>\n",
       "    </tr>\n",
       "    <tr>\n",
       "      <th>2019-12-26</th>\n",
       "      <td>1.1096</td>\n",
       "      <td>0.000541</td>\n",
       "      <td>1</td>\n",
       "      <td>0.000271</td>\n",
       "      <td>0.000090</td>\n",
       "      <td>0.000722</td>\n",
       "      <td>-0.003784</td>\n",
       "      <td>0.000810</td>\n",
       "      <td>-0.000378</td>\n",
       "      <td>0.002319</td>\n",
       "      <td>0.000748</td>\n",
       "    </tr>\n",
       "    <tr>\n",
       "      <th>2019-12-27</th>\n",
       "      <td>1.1175</td>\n",
       "      <td>0.007094</td>\n",
       "      <td>1</td>\n",
       "      <td>0.000541</td>\n",
       "      <td>0.000271</td>\n",
       "      <td>0.000090</td>\n",
       "      <td>0.000722</td>\n",
       "      <td>-0.003784</td>\n",
       "      <td>-0.000432</td>\n",
       "      <td>0.002317</td>\n",
       "      <td>0.001400</td>\n",
       "    </tr>\n",
       "    <tr>\n",
       "      <th>2019-12-30</th>\n",
       "      <td>1.1197</td>\n",
       "      <td>0.001967</td>\n",
       "      <td>1</td>\n",
       "      <td>0.007094</td>\n",
       "      <td>0.000541</td>\n",
       "      <td>0.000271</td>\n",
       "      <td>0.000090</td>\n",
       "      <td>0.000722</td>\n",
       "      <td>0.001744</td>\n",
       "      <td>0.002759</td>\n",
       "      <td>0.009288</td>\n",
       "    </tr>\n",
       "    <tr>\n",
       "      <th>2019-12-31</th>\n",
       "      <td>1.1210</td>\n",
       "      <td>0.001160</td>\n",
       "      <td>1</td>\n",
       "      <td>0.001967</td>\n",
       "      <td>0.007094</td>\n",
       "      <td>0.000541</td>\n",
       "      <td>0.000271</td>\n",
       "      <td>0.000090</td>\n",
       "      <td>0.001993</td>\n",
       "      <td>0.002530</td>\n",
       "      <td>0.011390</td>\n",
       "    </tr>\n",
       "    <tr>\n",
       "      <th>2020-01-01</th>\n",
       "      <td>1.1210</td>\n",
       "      <td>0.000000</td>\n",
       "      <td>0</td>\n",
       "      <td>0.001160</td>\n",
       "      <td>0.001967</td>\n",
       "      <td>0.007094</td>\n",
       "      <td>0.000541</td>\n",
       "      <td>0.000271</td>\n",
       "      <td>0.002207</td>\n",
       "      <td>0.002533</td>\n",
       "      <td>0.012518</td>\n",
       "    </tr>\n",
       "  </tbody>\n",
       "</table>\n",
       "<p>2553 rows × 11 columns</p>\n",
       "</div>"
      ],
      "text/plain": [
       "             price    return  direction     lag_1     lag_2     lag_3  \\\n",
       "Date                                                                    \n",
       "2010-03-22  1.3555  0.001772          1 -0.005528 -0.009582 -0.002327   \n",
       "2010-03-23  1.3498 -0.004214          0  0.001772 -0.005528 -0.009582   \n",
       "2010-03-24  1.3313 -0.013801          0 -0.004214  0.001772 -0.005528   \n",
       "2010-03-25  1.3278 -0.002632          0 -0.013801 -0.004214  0.001772   \n",
       "2010-03-26  1.3410  0.009892          1 -0.002632 -0.013801 -0.004214   \n",
       "...            ...       ...        ...       ...       ...       ...   \n",
       "2019-12-26  1.1096  0.000541          1  0.000271  0.000090  0.000722   \n",
       "2019-12-27  1.1175  0.007094          1  0.000541  0.000271  0.000090   \n",
       "2019-12-30  1.1197  0.001967          1  0.007094  0.000541  0.000271   \n",
       "2019-12-31  1.1210  0.001160          1  0.001967  0.007094  0.000541   \n",
       "2020-01-01  1.1210  0.000000          0  0.001160  0.001967  0.007094   \n",
       "\n",
       "               lag_4     lag_5  momentum  volatility  distance  \n",
       "Date                                                            \n",
       "2010-03-22  0.006997 -0.006415 -0.003371    0.005262 -0.030572  \n",
       "2010-03-23 -0.002327  0.006997 -0.001734    0.005276 -0.026256  \n",
       "2010-03-24 -0.009582 -0.002327 -0.003976    0.005135 -0.029964  \n",
       "2010-03-25 -0.005528 -0.009582 -0.006270    0.005960 -0.046070  \n",
       "2010-03-26  0.001772 -0.005528 -0.004880    0.005940 -0.047122  \n",
       "...              ...       ...       ...         ...       ...  \n",
       "2019-12-26 -0.003784  0.000810 -0.000378    0.002319  0.000748  \n",
       "2019-12-27  0.000722 -0.003784 -0.000432    0.002317  0.001400  \n",
       "2019-12-30  0.000090  0.000722  0.001744    0.002759  0.009288  \n",
       "2019-12-31  0.000271  0.000090  0.001993    0.002530  0.011390  \n",
       "2020-01-01  0.000541  0.000271  0.002207    0.002533  0.012518  \n",
       "\n",
       "[2553 rows x 11 columns]"
      ]
     },
     "execution_count": 378,
     "metadata": {},
     "output_type": "execute_result"
    }
   ],
   "source": [
    "data"
   ]
  },
  {
   "cell_type": "code",
   "execution_count": 379,
   "id": "545b54af",
   "metadata": {},
   "outputs": [
    {
     "data": {
      "text/html": [
       "<div>\n",
       "<style scoped>\n",
       "    .dataframe tbody tr th:only-of-type {\n",
       "        vertical-align: middle;\n",
       "    }\n",
       "\n",
       "    .dataframe tbody tr th {\n",
       "        vertical-align: top;\n",
       "    }\n",
       "\n",
       "    .dataframe thead th {\n",
       "        text-align: right;\n",
       "    }\n",
       "</style>\n",
       "<table border=\"1\" class=\"dataframe\">\n",
       "  <thead>\n",
       "    <tr style=\"text-align: right;\">\n",
       "      <th></th>\n",
       "      <th>price</th>\n",
       "      <th>return</th>\n",
       "      <th>direction</th>\n",
       "      <th>lag_1</th>\n",
       "      <th>lag_2</th>\n",
       "      <th>lag_3</th>\n",
       "      <th>lag_4</th>\n",
       "      <th>lag_5</th>\n",
       "      <th>momentum</th>\n",
       "      <th>volatility</th>\n",
       "      <th>distance</th>\n",
       "    </tr>\n",
       "    <tr>\n",
       "      <th>Date</th>\n",
       "      <th></th>\n",
       "      <th></th>\n",
       "      <th></th>\n",
       "      <th></th>\n",
       "      <th></th>\n",
       "      <th></th>\n",
       "      <th></th>\n",
       "      <th></th>\n",
       "      <th></th>\n",
       "      <th></th>\n",
       "      <th></th>\n",
       "    </tr>\n",
       "  </thead>\n",
       "  <tbody>\n",
       "    <tr>\n",
       "      <th>2010-03-22</th>\n",
       "      <td>1.3555</td>\n",
       "      <td>0.001772</td>\n",
       "      <td>1</td>\n",
       "      <td>-0.005528</td>\n",
       "      <td>-0.009582</td>\n",
       "      <td>-0.002327</td>\n",
       "      <td>0.006997</td>\n",
       "      <td>-0.006415</td>\n",
       "      <td>NaN</td>\n",
       "      <td>0.005262</td>\n",
       "      <td>-0.030572</td>\n",
       "    </tr>\n",
       "    <tr>\n",
       "      <th>2010-03-23</th>\n",
       "      <td>1.3498</td>\n",
       "      <td>-0.004214</td>\n",
       "      <td>0</td>\n",
       "      <td>0.001772</td>\n",
       "      <td>-0.005528</td>\n",
       "      <td>-0.009582</td>\n",
       "      <td>-0.002327</td>\n",
       "      <td>0.006997</td>\n",
       "      <td>NaN</td>\n",
       "      <td>0.005276</td>\n",
       "      <td>-0.026256</td>\n",
       "    </tr>\n",
       "    <tr>\n",
       "      <th>2010-03-24</th>\n",
       "      <td>1.3313</td>\n",
       "      <td>-0.013801</td>\n",
       "      <td>0</td>\n",
       "      <td>-0.004214</td>\n",
       "      <td>0.001772</td>\n",
       "      <td>-0.005528</td>\n",
       "      <td>-0.009582</td>\n",
       "      <td>-0.002327</td>\n",
       "      <td>NaN</td>\n",
       "      <td>0.005135</td>\n",
       "      <td>-0.029964</td>\n",
       "    </tr>\n",
       "    <tr>\n",
       "      <th>2010-03-25</th>\n",
       "      <td>1.3278</td>\n",
       "      <td>-0.002632</td>\n",
       "      <td>0</td>\n",
       "      <td>-0.013801</td>\n",
       "      <td>-0.004214</td>\n",
       "      <td>0.001772</td>\n",
       "      <td>-0.005528</td>\n",
       "      <td>-0.009582</td>\n",
       "      <td>NaN</td>\n",
       "      <td>0.005960</td>\n",
       "      <td>-0.046070</td>\n",
       "    </tr>\n",
       "    <tr>\n",
       "      <th>2010-03-26</th>\n",
       "      <td>1.3410</td>\n",
       "      <td>0.009892</td>\n",
       "      <td>1</td>\n",
       "      <td>-0.002632</td>\n",
       "      <td>-0.013801</td>\n",
       "      <td>-0.004214</td>\n",
       "      <td>0.001772</td>\n",
       "      <td>-0.005528</td>\n",
       "      <td>NaN</td>\n",
       "      <td>0.005940</td>\n",
       "      <td>-0.047122</td>\n",
       "    </tr>\n",
       "  </tbody>\n",
       "</table>\n",
       "</div>"
      ],
      "text/plain": [
       "             price    return  direction     lag_1     lag_2     lag_3  \\\n",
       "Date                                                                    \n",
       "2010-03-22  1.3555  0.001772          1 -0.005528 -0.009582 -0.002327   \n",
       "2010-03-23  1.3498 -0.004214          0  0.001772 -0.005528 -0.009582   \n",
       "2010-03-24  1.3313 -0.013801          0 -0.004214  0.001772 -0.005528   \n",
       "2010-03-25  1.3278 -0.002632          0 -0.013801 -0.004214  0.001772   \n",
       "2010-03-26  1.3410  0.009892          1 -0.002632 -0.013801 -0.004214   \n",
       "\n",
       "               lag_4     lag_5  momentum  volatility  distance  \n",
       "Date                                                            \n",
       "2010-03-22  0.006997 -0.006415       NaN    0.005262 -0.030572  \n",
       "2010-03-23 -0.002327  0.006997       NaN    0.005276 -0.026256  \n",
       "2010-03-24 -0.009582 -0.002327       NaN    0.005135 -0.029964  \n",
       "2010-03-25 -0.005528 -0.009582       NaN    0.005960 -0.046070  \n",
       "2010-03-26  0.001772 -0.005528       NaN    0.005940 -0.047122  "
      ]
     },
     "execution_count": 379,
     "metadata": {},
     "output_type": "execute_result"
    }
   ],
   "source": [
    "data['momentum']=data['return'].rolling(5).mean().shift(1)\n",
    "data.head()"
   ]
  },
  {
   "cell_type": "code",
   "execution_count": 380,
   "id": "278ba101",
   "metadata": {},
   "outputs": [],
   "source": [
    "data['volatility']=data['return'].rolling(20).std().shift(1)\n",
    "data['distance']=(data['price']-data['price'].rolling(50).mean()).shift(1)"
   ]
  },
  {
   "cell_type": "code",
   "execution_count": 381,
   "id": "1e141523",
   "metadata": {},
   "outputs": [],
   "source": [
    "data.dropna(inplace=True)"
   ]
  },
  {
   "cell_type": "code",
   "execution_count": 382,
   "id": "2973ae71",
   "metadata": {},
   "outputs": [
    {
     "data": {
      "text/html": [
       "<div>\n",
       "<style scoped>\n",
       "    .dataframe tbody tr th:only-of-type {\n",
       "        vertical-align: middle;\n",
       "    }\n",
       "\n",
       "    .dataframe tbody tr th {\n",
       "        vertical-align: top;\n",
       "    }\n",
       "\n",
       "    .dataframe thead th {\n",
       "        text-align: right;\n",
       "    }\n",
       "</style>\n",
       "<table border=\"1\" class=\"dataframe\">\n",
       "  <thead>\n",
       "    <tr style=\"text-align: right;\">\n",
       "      <th></th>\n",
       "      <th>price</th>\n",
       "      <th>return</th>\n",
       "      <th>direction</th>\n",
       "      <th>lag_1</th>\n",
       "      <th>lag_2</th>\n",
       "      <th>lag_3</th>\n",
       "      <th>lag_4</th>\n",
       "      <th>lag_5</th>\n",
       "      <th>momentum</th>\n",
       "      <th>volatility</th>\n",
       "      <th>distance</th>\n",
       "    </tr>\n",
       "    <tr>\n",
       "      <th>Date</th>\n",
       "      <th></th>\n",
       "      <th></th>\n",
       "      <th></th>\n",
       "      <th></th>\n",
       "      <th></th>\n",
       "      <th></th>\n",
       "      <th></th>\n",
       "      <th></th>\n",
       "      <th></th>\n",
       "      <th></th>\n",
       "      <th></th>\n",
       "    </tr>\n",
       "  </thead>\n",
       "  <tbody>\n",
       "    <tr>\n",
       "      <th>2010-05-31</th>\n",
       "      <td>1.2305</td>\n",
       "      <td>0.003093</td>\n",
       "      <td>1</td>\n",
       "      <td>-0.008200</td>\n",
       "      <td>0.016385</td>\n",
       "      <td>-0.016143</td>\n",
       "      <td>0.001133</td>\n",
       "      <td>-0.017576</td>\n",
       "      <td>-0.004880</td>\n",
       "      <td>0.011307</td>\n",
       "      <td>-0.080680</td>\n",
       "    </tr>\n",
       "    <tr>\n",
       "      <th>2010-06-01</th>\n",
       "      <td>1.2225</td>\n",
       "      <td>-0.006523</td>\n",
       "      <td>0</td>\n",
       "      <td>0.003093</td>\n",
       "      <td>-0.008200</td>\n",
       "      <td>0.016385</td>\n",
       "      <td>-0.016143</td>\n",
       "      <td>0.001133</td>\n",
       "      <td>-0.000746</td>\n",
       "      <td>0.011378</td>\n",
       "      <td>-0.074380</td>\n",
       "    </tr>\n",
       "    <tr>\n",
       "      <th>2010-06-02</th>\n",
       "      <td>1.2249</td>\n",
       "      <td>0.001961</td>\n",
       "      <td>1</td>\n",
       "      <td>-0.006523</td>\n",
       "      <td>0.003093</td>\n",
       "      <td>-0.008200</td>\n",
       "      <td>0.016385</td>\n",
       "      <td>-0.016143</td>\n",
       "      <td>-0.002277</td>\n",
       "      <td>0.011009</td>\n",
       "      <td>-0.079834</td>\n",
       "    </tr>\n",
       "    <tr>\n",
       "      <th>2010-06-03</th>\n",
       "      <td>1.2157</td>\n",
       "      <td>-0.007539</td>\n",
       "      <td>0</td>\n",
       "      <td>0.001961</td>\n",
       "      <td>-0.006523</td>\n",
       "      <td>0.003093</td>\n",
       "      <td>-0.008200</td>\n",
       "      <td>0.016385</td>\n",
       "      <td>0.001343</td>\n",
       "      <td>0.010798</td>\n",
       "      <td>-0.075306</td>\n",
       "    </tr>\n",
       "    <tr>\n",
       "      <th>2010-06-04</th>\n",
       "      <td>1.1973</td>\n",
       "      <td>-0.015251</td>\n",
       "      <td>0</td>\n",
       "      <td>-0.007539</td>\n",
       "      <td>0.001961</td>\n",
       "      <td>-0.006523</td>\n",
       "      <td>0.003093</td>\n",
       "      <td>-0.008200</td>\n",
       "      <td>-0.003441</td>\n",
       "      <td>0.010618</td>\n",
       "      <td>-0.082264</td>\n",
       "    </tr>\n",
       "  </tbody>\n",
       "</table>\n",
       "</div>"
      ],
      "text/plain": [
       "             price    return  direction     lag_1     lag_2     lag_3  \\\n",
       "Date                                                                    \n",
       "2010-05-31  1.2305  0.003093          1 -0.008200  0.016385 -0.016143   \n",
       "2010-06-01  1.2225 -0.006523          0  0.003093 -0.008200  0.016385   \n",
       "2010-06-02  1.2249  0.001961          1 -0.006523  0.003093 -0.008200   \n",
       "2010-06-03  1.2157 -0.007539          0  0.001961 -0.006523  0.003093   \n",
       "2010-06-04  1.1973 -0.015251          0 -0.007539  0.001961 -0.006523   \n",
       "\n",
       "               lag_4     lag_5  momentum  volatility  distance  \n",
       "Date                                                            \n",
       "2010-05-31  0.001133 -0.017576 -0.004880    0.011307 -0.080680  \n",
       "2010-06-01 -0.016143  0.001133 -0.000746    0.011378 -0.074380  \n",
       "2010-06-02  0.016385 -0.016143 -0.002277    0.011009 -0.079834  \n",
       "2010-06-03 -0.008200  0.016385  0.001343    0.010798 -0.075306  \n",
       "2010-06-04  0.003093 -0.008200 -0.003441    0.010618 -0.082264  "
      ]
     },
     "execution_count": 382,
     "metadata": {},
     "output_type": "execute_result"
    }
   ],
   "source": [
    "data.head()"
   ]
  },
  {
   "cell_type": "code",
   "execution_count": 383,
   "id": "9a7370ad",
   "metadata": {},
   "outputs": [],
   "source": [
    "col=['lag_1','lag_2','lag_3','lag_4','lag_5','momentum','volatility','distance']"
   ]
  },
  {
   "cell_type": "code",
   "execution_count": 384,
   "id": "7f2fa93f",
   "metadata": {},
   "outputs": [
    {
     "data": {
      "text/html": [
       "<div>\n",
       "<style scoped>\n",
       "    .dataframe tbody tr th:only-of-type {\n",
       "        vertical-align: middle;\n",
       "    }\n",
       "\n",
       "    .dataframe tbody tr th {\n",
       "        vertical-align: top;\n",
       "    }\n",
       "\n",
       "    .dataframe thead th {\n",
       "        text-align: right;\n",
       "    }\n",
       "</style>\n",
       "<table border=\"1\" class=\"dataframe\">\n",
       "  <thead>\n",
       "    <tr style=\"text-align: right;\">\n",
       "      <th></th>\n",
       "      <th>price</th>\n",
       "      <th>return</th>\n",
       "      <th>direction</th>\n",
       "      <th>lag_1</th>\n",
       "      <th>lag_2</th>\n",
       "      <th>lag_3</th>\n",
       "      <th>lag_4</th>\n",
       "      <th>lag_5</th>\n",
       "      <th>momentum</th>\n",
       "      <th>volatility</th>\n",
       "      <th>distance</th>\n",
       "    </tr>\n",
       "    <tr>\n",
       "      <th>Date</th>\n",
       "      <th></th>\n",
       "      <th></th>\n",
       "      <th></th>\n",
       "      <th></th>\n",
       "      <th></th>\n",
       "      <th></th>\n",
       "      <th></th>\n",
       "      <th></th>\n",
       "      <th></th>\n",
       "      <th></th>\n",
       "      <th></th>\n",
       "    </tr>\n",
       "  </thead>\n",
       "  <tbody>\n",
       "    <tr>\n",
       "      <th>2019-12-26</th>\n",
       "      <td>1.1096</td>\n",
       "      <td>0.0005</td>\n",
       "      <td>1</td>\n",
       "      <td>0.0003</td>\n",
       "      <td>0.0001</td>\n",
       "      <td>0.0007</td>\n",
       "      <td>-0.0038</td>\n",
       "      <td>0.0008</td>\n",
       "      <td>-0.0004</td>\n",
       "      <td>0.0023</td>\n",
       "      <td>0.0007</td>\n",
       "    </tr>\n",
       "    <tr>\n",
       "      <th>2019-12-27</th>\n",
       "      <td>1.1175</td>\n",
       "      <td>0.0071</td>\n",
       "      <td>1</td>\n",
       "      <td>0.0005</td>\n",
       "      <td>0.0003</td>\n",
       "      <td>0.0001</td>\n",
       "      <td>0.0007</td>\n",
       "      <td>-0.0038</td>\n",
       "      <td>-0.0004</td>\n",
       "      <td>0.0023</td>\n",
       "      <td>0.0014</td>\n",
       "    </tr>\n",
       "    <tr>\n",
       "      <th>2019-12-30</th>\n",
       "      <td>1.1197</td>\n",
       "      <td>0.0020</td>\n",
       "      <td>1</td>\n",
       "      <td>0.0071</td>\n",
       "      <td>0.0005</td>\n",
       "      <td>0.0003</td>\n",
       "      <td>0.0001</td>\n",
       "      <td>0.0007</td>\n",
       "      <td>0.0017</td>\n",
       "      <td>0.0028</td>\n",
       "      <td>0.0093</td>\n",
       "    </tr>\n",
       "    <tr>\n",
       "      <th>2019-12-31</th>\n",
       "      <td>1.1210</td>\n",
       "      <td>0.0012</td>\n",
       "      <td>1</td>\n",
       "      <td>0.0020</td>\n",
       "      <td>0.0071</td>\n",
       "      <td>0.0005</td>\n",
       "      <td>0.0003</td>\n",
       "      <td>0.0001</td>\n",
       "      <td>0.0020</td>\n",
       "      <td>0.0025</td>\n",
       "      <td>0.0114</td>\n",
       "    </tr>\n",
       "    <tr>\n",
       "      <th>2020-01-01</th>\n",
       "      <td>1.1210</td>\n",
       "      <td>0.0000</td>\n",
       "      <td>0</td>\n",
       "      <td>0.0012</td>\n",
       "      <td>0.0020</td>\n",
       "      <td>0.0071</td>\n",
       "      <td>0.0005</td>\n",
       "      <td>0.0003</td>\n",
       "      <td>0.0022</td>\n",
       "      <td>0.0025</td>\n",
       "      <td>0.0125</td>\n",
       "    </tr>\n",
       "  </tbody>\n",
       "</table>\n",
       "</div>"
      ],
      "text/plain": [
       "             price  return  direction   lag_1   lag_2   lag_3   lag_4   lag_5  \\\n",
       "Date                                                                            \n",
       "2019-12-26  1.1096  0.0005          1  0.0003  0.0001  0.0007 -0.0038  0.0008   \n",
       "2019-12-27  1.1175  0.0071          1  0.0005  0.0003  0.0001  0.0007 -0.0038   \n",
       "2019-12-30  1.1197  0.0020          1  0.0071  0.0005  0.0003  0.0001  0.0007   \n",
       "2019-12-31  1.1210  0.0012          1  0.0020  0.0071  0.0005  0.0003  0.0001   \n",
       "2020-01-01  1.1210  0.0000          0  0.0012  0.0020  0.0071  0.0005  0.0003   \n",
       "\n",
       "            momentum  volatility  distance  \n",
       "Date                                        \n",
       "2019-12-26   -0.0004      0.0023    0.0007  \n",
       "2019-12-27   -0.0004      0.0023    0.0014  \n",
       "2019-12-30    0.0017      0.0028    0.0093  \n",
       "2019-12-31    0.0020      0.0025    0.0114  \n",
       "2020-01-01    0.0022      0.0025    0.0125  "
      ]
     },
     "execution_count": 384,
     "metadata": {},
     "output_type": "execute_result"
    }
   ],
   "source": [
    "data.round(4).tail()"
   ]
  },
  {
   "cell_type": "code",
   "execution_count": 385,
   "id": "95a42f5d",
   "metadata": {},
   "outputs": [],
   "source": [
    "training_data=data[data.index<cutoff].copy()"
   ]
  },
  {
   "cell_type": "code",
   "execution_count": 386,
   "id": "b2cffb73",
   "metadata": {},
   "outputs": [],
   "source": [
    "training_data_=(training_data-training_data.mean())/training_data.std()"
   ]
  },
  {
   "cell_type": "code",
   "execution_count": 387,
   "id": "851214ee",
   "metadata": {},
   "outputs": [],
   "source": [
    "test_data=data[data.index>=cutoff].copy()"
   ]
  },
  {
   "cell_type": "code",
   "execution_count": 388,
   "id": "b35c44c0",
   "metadata": {},
   "outputs": [],
   "source": [
    "test_data_=(test_data-test_data.mean())/test_data.mean()"
   ]
  },
  {
   "cell_type": "code",
   "execution_count": 389,
   "id": "667f90c8",
   "metadata": {},
   "outputs": [],
   "source": [
    "setseeds()"
   ]
  },
  {
   "cell_type": "code",
   "execution_count": 390,
   "id": "080f9df9",
   "metadata": {},
   "outputs": [],
   "source": [
    "model=Sequential()"
   ]
  },
  {
   "cell_type": "code",
   "execution_count": 391,
   "id": "beb84793",
   "metadata": {},
   "outputs": [],
   "source": [
    "model.add(Dense(32,activation='relu',input_shape=(len(col),)))"
   ]
  },
  {
   "cell_type": "code",
   "execution_count": 392,
   "id": "f3509c4c",
   "metadata": {},
   "outputs": [],
   "source": [
    "model.add(Dense(32,activation='relu'))"
   ]
  },
  {
   "cell_type": "code",
   "execution_count": 393,
   "id": "1cc91744",
   "metadata": {},
   "outputs": [],
   "source": [
    "model.add(Dense(1,activation='sigmoid'))"
   ]
  },
  {
   "cell_type": "code",
   "execution_count": 394,
   "id": "456bd959",
   "metadata": {},
   "outputs": [],
   "source": [
    "model.compile(optimizer=optimizer,loss='binary_crossentropy',metrics=['accuracy'])"
   ]
  },
  {
   "cell_type": "code",
   "execution_count": 395,
   "id": "3486bc95",
   "metadata": {},
   "outputs": [
    {
     "name": "stdout",
     "output_type": "stream",
     "text": [
      "Wall time: 2.84 s\n"
     ]
    },
    {
     "data": {
      "text/plain": [
       "<keras.callbacks.History at 0x274f8c23370>"
      ]
     },
     "execution_count": 395,
     "metadata": {},
     "output_type": "execute_result"
    }
   ],
   "source": [
    "%%time\n",
    "model.fit(training_data[col],training_data['direction'],verbose=False,epochs=25)"
   ]
  },
  {
   "cell_type": "code",
   "execution_count": 396,
   "id": "d30c713b",
   "metadata": {},
   "outputs": [
    {
     "name": "stdout",
     "output_type": "stream",
     "text": [
      "62/62 [==============================] - 0s 2ms/step - loss: 0.7110 - accuracy: 0.5242\n"
     ]
    },
    {
     "data": {
      "text/plain": [
       "[0.710976779460907, 0.5242424011230469]"
      ]
     },
     "execution_count": 396,
     "metadata": {},
     "output_type": "execute_result"
    }
   ],
   "source": [
    "model.evaluate(training_data_[col],training_data['direction'])"
   ]
  },
  {
   "cell_type": "code",
   "execution_count": 397,
   "id": "3f5b82aa",
   "metadata": {},
   "outputs": [
    {
     "name": "stdout",
     "output_type": "stream",
     "text": [
      "62/62 [==============================] - 0s 1ms/step\n"
     ]
    }
   ],
   "source": [
    "pred=np.where(model.predict(training_data_[col])>0.5,1,0)"
   ]
  },
  {
   "cell_type": "code",
   "execution_count": 398,
   "id": "f0a7183c",
   "metadata": {},
   "outputs": [],
   "source": [
    "training_data['prediction']=np.where(pred>0,1,-1)"
   ]
  },
  {
   "cell_type": "code",
   "execution_count": 399,
   "id": "77437ce5",
   "metadata": {},
   "outputs": [],
   "source": [
    "training_data['strategy']=training_data['prediction']*training_data['return']"
   ]
  },
  {
   "cell_type": "code",
   "execution_count": 400,
   "id": "442a0c66",
   "metadata": {},
   "outputs": [
    {
     "data": {
      "text/plain": [
       "return      0.977908\n",
       "strategy    1.522283\n",
       "dtype: float64"
      ]
     },
     "execution_count": 400,
     "metadata": {},
     "output_type": "execute_result"
    }
   ],
   "source": [
    "training_data[['return','strategy']].sum().apply(np.exp)"
   ]
  },
  {
   "cell_type": "code",
   "execution_count": 401,
   "id": "fe423537",
   "metadata": {},
   "outputs": [
    {
     "data": {
      "text/plain": [
       "<AxesSubplot:xlabel='Date'>"
      ]
     },
     "execution_count": 401,
     "metadata": {},
     "output_type": "execute_result"
    },
    {
     "data": {
      "image/png": "[encoded data removed]",
      "text/plain": [
       "<Figure size 720x432 with 1 Axes>"
      ]
     },
     "metadata": {
      "needs_background": "light"
     },
     "output_type": "display_data"
    }
   ],
   "source": [
    "training_data[['return','strategy']].cumsum().apply(np.exp).plot(figsize=(10,6))"
   ]
  },
  {
   "cell_type": "code",
   "execution_count": 402,
   "id": "d2bf2635",
   "metadata": {},
   "outputs": [
    {
     "name": "stdout",
     "output_type": "stream",
     "text": [
      "17/17 [==============================] - 0s 2ms/step - loss: 3.4936 - accuracy: 0.4723\n"
     ]
    },
    {
     "data": {
      "text/plain": [
       "[3.493593692779541, 0.47227534651756287]"
      ]
     },
     "execution_count": 402,
     "metadata": {},
     "output_type": "execute_result"
    }
   ],
   "source": [
    "model.evaluate(test_data_[col],test_data['direction'])"
   ]
  },
  {
   "cell_type": "code",
   "execution_count": 403,
   "id": "df5dc7b8",
   "metadata": {},
   "outputs": [
    {
     "name": "stdout",
     "output_type": "stream",
     "text": [
      "17/17 [==============================] - 0s 2ms/step\n"
     ]
    }
   ],
   "source": [
    "pred=np.where(model.predict(test_data_[col])>0.5,1,0)"
   ]
  },
  {
   "cell_type": "code",
   "execution_count": 404,
   "id": "daf27311",
   "metadata": {},
   "outputs": [],
   "source": [
    "test_data['prediction']=np.where(pred>0,1,-1)"
   ]
  },
  {
   "cell_type": "code",
   "execution_count": 405,
   "id": "a1bcf1b1",
   "metadata": {},
   "outputs": [
    {
     "data": {
      "text/plain": [
       " 1    288\n",
       "-1    235\n",
       "Name: prediction, dtype: int64"
      ]
     },
     "execution_count": 405,
     "metadata": {},
     "output_type": "execute_result"
    }
   ],
   "source": [
    "test_data['prediction'].value_counts()"
   ]
  },
  {
   "cell_type": "code",
   "execution_count": 406,
   "id": "f94750fa",
   "metadata": {},
   "outputs": [],
   "source": [
    "test_data['strategy']=test_data['return']*test_data['prediction']"
   ]
  },
  {
   "cell_type": "code",
   "execution_count": 407,
   "id": "31255a99",
   "metadata": {},
   "outputs": [
    {
     "data": {
      "text/plain": [
       "return      0.934478\n",
       "strategy    0.875842\n",
       "dtype: float64"
      ]
     },
     "execution_count": 407,
     "metadata": {},
     "output_type": "execute_result"
    }
   ],
   "source": [
    "test_data[['return','strategy']].sum().apply(np.exp)"
   ]
  },
  {
   "cell_type": "code",
   "execution_count": 408,
   "id": "031479db",
   "metadata": {},
   "outputs": [
    {
     "data": {
      "text/plain": [
       "<AxesSubplot:xlabel='Date'>"
      ]
     },
     "execution_count": 408,
     "metadata": {},
     "output_type": "execute_result"
    },
    {
     "data": {
      "image/png": "[encoded data removed]",
      "text/plain": [
       "<Figure size 720x432 with 1 Axes>"
      ]
     },
     "metadata": {
      "needs_background": "light"
     },
     "output_type": "display_data"
    }
   ],
   "source": [
    "test_data[['return','strategy']].cumsum().apply(np.exp).plot(figsize=(10,6))"
   ]
  },
  {
   "cell_type": "code",
   "execution_count": null,
   "id": "2e300ab6",
   "metadata": {},
   "outputs": [],
   "source": []
  }
 ],
 "metadata": {
  "kernelspec": {
   "display_name": "Python 3 (ipykernel)",
   "language": "python",
   "name": "python3"
  },
  "language_info": {
   "codemirror_mode": {
    "name": "ipython",
    "version": 3
   },
   "file_extension": ".py",
   "mimetype": "text/x-python",
   "name": "python",
   "nbconvert_exporter": "python",
   "pygments_lexer": "ipython3",
   "version": "3.9.7"
  }
 },
 "nbformat": 4,
 "nbformat_minor": 5
}
