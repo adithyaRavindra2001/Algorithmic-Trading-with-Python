{
 "cells": [
  {
   "cell_type": "markdown",
   "metadata": {},
   "source": [
    "# Python for Algorithmic Trading "
   ]
  },
  {
   "cell_type": "markdown",
   "metadata": {},
   "source": [
    "## Visualizing Streaming Data with Plotly"
   ]
  },
  {
   "cell_type": "code",
   "execution_count": 111,
   "metadata": {},
   "outputs": [],
   "source": [
    "import zmq\n",
    "from datetime import datetime\n",
    "import plotly.graph_objects as go"
   ]
  },
  {
   "cell_type": "code",
   "execution_count": 112,
   "metadata": {},
   "outputs": [],
   "source": [
    "symbol = 'SYMBOL'"
   ]
  },
  {
   "cell_type": "code",
   "execution_count": 113,
   "metadata": {},
   "outputs": [
    {
     "data": {
      "application/vnd.jupyter.widget-view+json": {
       "model_id": "edf3447892ed4451a70fb91c6c50e348",
       "version_major": 2,
       "version_minor": 0
      },
      "text/plain": [
       "FigureWidget({\n",
       "    'data': [{'type': 'scatter', 'uid': 'b2f36c1f-97a4-43e9-9422-8dbc9d223a74'}], 'layout': {'t…"
      ]
     },
     "metadata": {},
     "output_type": "display_data"
    }
   ],
   "source": [
    "fig = go.FigureWidget()\n",
    "fig.add_scatter()\n",
    "fig"
   ]
  },
  {
   "cell_type": "code",
   "execution_count": 114,
   "metadata": {},
   "outputs": [],
   "source": [
    "context = zmq.Context()"
   ]
  },
  {
   "cell_type": "code",
   "execution_count": 115,
   "metadata": {},
   "outputs": [],
   "source": [
    "socket = context.socket(zmq.SUB)"
   ]
  },
  {
   "cell_type": "code",
   "execution_count": 116,
   "metadata": {},
   "outputs": [
    {
     "data": {
      "text/plain": [
       "<SocketContext(connect='tcp://127.0.0.1:5555')>"
      ]
     },
     "execution_count": 116,
     "metadata": {},
     "output_type": "execute_result"
    }
   ],
   "source": [
    "socket.connect('tcp://127.0.0.1:5555')"
   ]
  },
  {
   "cell_type": "code",
   "execution_count": 117,
   "metadata": {},
   "outputs": [],
   "source": [
    "socket.setsockopt_string(zmq.SUBSCRIBE, 'SYMBOL')"
   ]
  },
  {
   "cell_type": "code",
   "execution_count": 118,
   "metadata": {},
   "outputs": [],
   "source": [
    "times = list()\n",
    "prices = list()"
   ]
  },
  {
   "cell_type": "code",
   "execution_count": 119,
   "metadata": {},
   "outputs": [],
   "source": [
    "for _ in range(50):\n",
    "    msg = socket.recv_string()\n",
    "    t = datetime.now()\n",
    "    times.append(t)\n",
    "    _, price = msg.split(':')\n",
    "    prices.append(float(price))\n",
    "    fig.data[0].x = times\n",
    "    fig.data[0].y = prices"
   ]
  },
  {
   "cell_type": "code",
   "execution_count": 103,
   "metadata": {},
   "outputs": [
    {
     "data": {
      "application/vnd.jupyter.widget-view+json": {
       "model_id": "879496cdfd4e4eda8f2434529c35c32f",
       "version_major": 2,
       "version_minor": 0
      },
      "text/plain": [
       "FigureWidget({\n",
       "    'data': [{'type': 'scatter',\n",
       "              'uid': 'd3582c0c-1859-40fe-bf35-d466ce11b191',\n",
       " …"
      ]
     },
     "metadata": {},
     "output_type": "display_data"
    }
   ],
   "source": [
    "\n",
    "fig"
   ]
  },
  {
   "cell_type": "code",
   "execution_count": 126,
   "metadata": {},
   "outputs": [
    {
     "data": {
      "application/vnd.jupyter.widget-view+json": {
       "model_id": "a7087578a3b944c298a35fbdb14171d1",
       "version_major": 2,
       "version_minor": 0
      },
      "text/plain": [
       "FigureWidget({\n",
       "    'data': [{'name': 'SYMBOL', 'type': 'scatter', 'uid': '4102e7ce-0fc3-49d7-a466-6194cafce951…"
      ]
     },
     "metadata": {},
     "output_type": "display_data"
    }
   ],
   "source": [
    "fig=go.FigureWidget()\n",
    "fig.add_scatter(name='SYMBOL')\n",
    "fig.add_scatter(name='SMA1',line=dict(width=1,dash='dot'), mode='lines+markers')\n",
    "fig.add_scatter(name='SMA2',line=dict(width=1,dash='dot'), mode='lines+markers')\n",
    "\n",
    "fig"
   ]
  },
  {
   "cell_type": "code",
   "execution_count": 127,
   "metadata": {},
   "outputs": [],
   "source": [
    "import pandas as pd\n",
    "import numpy as np\n",
    "\n",
    "df = pd.DataFrame()\n",
    "\n",
    "\n"
   ]
  },
  {
   "cell_type": "code",
   "execution_count": 128,
   "metadata": {},
   "outputs": [
    {
     "data": {
      "application/vnd.jupyter.widget-view+json": {
       "model_id": "a7087578a3b944c298a35fbdb14171d1",
       "version_major": 2,
       "version_minor": 0
      },
      "text/plain": [
       "FigureWidget({\n",
       "    'data': [{'name': 'SYMBOL',\n",
       "              'type': 'scatter',\n",
       "              'uid': '4102e7ce…"
      ]
     },
     "metadata": {},
     "output_type": "display_data"
    }
   ],
   "source": [
    "for i in range(75):\n",
    "    msg=socket.recv_string()\n",
    "    t=datetime.now()\n",
    "    sym,price=msg.split(':')\n",
    "    df_temp=pd.DataFrame(np.array([sym,price]).reshape(1,-1),index=[t],columns=['symbol','price'])\n",
    "    df_temp['price']=pd.to_numeric(df_temp['price'])\n",
    "    df=pd.concat([df,df_temp])\n",
    "    df['SMA1']=df['price'].rolling(5).mean()\n",
    "    df['SMA2']=df['price'].rolling(10).mean()\n",
    "    \n",
    "    fig.data[0].x=df.index\n",
    "    fig.data[1].x=df.index\n",
    "    fig.data[2].x=df.index\n",
    "    fig.data[0].y=df['price']\n",
    "    fig.data[1].y=df['SMA1']\n",
    "    fig.data[2].y=df['SMA2']\n",
    "    \n",
    "\n",
    "    \n",
    "fig    \n",
    "    "
   ]
  },
  {
   "cell_type": "code",
   "execution_count": 74,
   "metadata": {},
   "outputs": [],
   "source": [
    "from plotly.subplots import make_subplots\n",
    "\n",
    "\n"
   ]
  },
  {
   "cell_type": "code",
   "execution_count": 129,
   "metadata": {},
   "outputs": [],
   "source": [
    "f=make_subplots(rows=3,cols=1,shared_xaxes=True)\n",
    "f.append_trace(go.Scatter(name='SYMBOL'),row=1,col=1)\n",
    "f.append_trace(go.Scatter(name='RETRUN',line=dict(width=1,dash='dot'),\n",
    "                         mode='lines+markers',marker={'symbol':'triangle-up'}),\n",
    "              row=2,col=1)\n",
    "f.append_trace(go.Scatter(name='MOMENTUM',line=dict(width=1,dash='dot'),\n",
    "                          mode='lines+markers',marker={'symbol':'x'}),\n",
    "              row=3,col=1)"
   ]
  },
  {
   "cell_type": "code",
   "execution_count": 130,
   "metadata": {},
   "outputs": [],
   "source": [
    "fig = go.FigureWidget(f)"
   ]
  },
  {
   "cell_type": "code",
   "execution_count": 131,
   "metadata": {},
   "outputs": [],
   "source": [
    "import numpy as np"
   ]
  },
  {
   "cell_type": "code",
   "execution_count": 132,
   "metadata": {},
   "outputs": [
    {
     "data": {
      "application/vnd.jupyter.widget-view+json": {
       "model_id": "53d1779d272e48f6bcf78154d242355f",
       "version_major": 2,
       "version_minor": 0
      },
      "text/plain": [
       "FigureWidget({\n",
       "    'data': [{'name': 'SYMBOL',\n",
       "              'type': 'scatter',\n",
       "              'uid': 'e01251ea…"
      ]
     },
     "metadata": {},
     "output_type": "display_data"
    }
   ],
   "source": [
    "col=['symbol','price','returns','momentum']\n",
    "df=pd.DataFrame(columns=col)\n",
    "\n",
    "fig"
   ]
  },
  {
   "cell_type": "code",
   "execution_count": 133,
   "metadata": {},
   "outputs": [],
   "source": [
    "for i in range(75):\n",
    "    msg=socket.recv_string()\n",
    "    sym,price=msg.split(':')\n",
    "    t=datetime.now()\n",
    "    df_temp=pd.DataFrame(np.array([sym,price,np.nan,np.nan]).reshape(1,-1),columns=col,index=[t])\n",
    "    df=pd.concat([df,df_temp])\n",
    "    df.dropna()\n",
    "    df['price']=pd.to_numeric(df['price'])\n",
    "    df['returns']=np.log(df['price']/df['price'].shift(1))\n",
    "    df['momentum']=df['returns'].rolling(10).mean()\n",
    "    fig.data[0].x=df.index\n",
    "    fig.data[1].x=df.index\n",
    "    fig.data[2].x=df.index\n",
    "    \n",
    "    \n",
    "    fig.data[0].y=df['price']\n",
    "    fig.data[1].y=df['returns']\n",
    "    fig.data[2].y=df['momentum']\n",
    "    "
   ]
  },
  {
   "cell_type": "code",
   "execution_count": 104,
   "metadata": {},
   "outputs": [
    {
     "data": {
      "text/plain": [
       "<SocketContext(connect='tcp://127.0.0.1:5556')>"
      ]
     },
     "execution_count": 104,
     "metadata": {},
     "output_type": "execute_result"
    }
   ],
   "source": [
    "socket2=context.socket(zmq.SUB)\n",
    "socket2.connect(\"tcp://127.0.0.1:5556\")\n"
   ]
  },
  {
   "cell_type": "code",
   "execution_count": 105,
   "metadata": {},
   "outputs": [
    {
     "name": "stdout",
     "output_type": "stream",
     "text": [
      "25.924 90.842 89.074 74.380 71.240 40.569 37.202 85.971\n",
      "27.928 4.800 29.890 98.780 31.315 16.065 86.112 30.848\n",
      "24.012 12.749 19.538 89.388 53.078 51.341 12.074 8.076\n",
      "52.010 17.784 48.274 2.497 88.723 98.601 55.654 47.311\n",
      "80.627 94.958 98.606 17.822 85.520 54.715 55.251 94.562\n"
     ]
    }
   ],
   "source": [
    "socket2.setsockopt_string(zmq.SUBSCRIBE,'')\n",
    "for i in range(5):\n",
    "    msg=socket2.recv_string()\n",
    "    print(msg)"
   ]
  },
  {
   "cell_type": "code",
   "execution_count": 110,
   "metadata": {},
   "outputs": [
    {
     "data": {
      "application/vnd.jupyter.widget-view+json": {
       "model_id": "1a1ee7ac42314aef8abdccad350fee4e",
       "version_major": 2,
       "version_minor": 0
      },
      "text/plain": [
       "FigureWidget({\n",
       "    'data': [{'type': 'bar', 'uid': '3a8c3762-18a9-45bb-9832-0434080c9d9f'}], 'layout': {'templ…"
      ]
     },
     "metadata": {},
     "output_type": "display_data"
    }
   ],
   "source": [
    "fig=go.FigureWidget()\n",
    "fig.add_bar()\n",
    "fig"
   ]
  },
  {
   "cell_type": "code",
   "execution_count": 109,
   "metadata": {},
   "outputs": [],
   "source": [
    "x=list('abcdefgh')\n",
    "fig.data[0].x=x\n",
    "for i in range(25):\n",
    "    msg=socket2.recv_string()\n",
    "    y=msg.split()\n",
    "    y=[float(n) for n in y]\n",
    "    fig.data[0].y=y"
   ]
  },
  {
   "cell_type": "code",
   "execution_count": null,
   "metadata": {},
   "outputs": [],
   "source": []
  }
 ],
 "metadata": {
  "anaconda-cloud": {},
  "kernelspec": {
   "display_name": "Python 3 (ipykernel)",
   "language": "python",
   "name": "python3"
  },
  "language_info": {
   "codemirror_mode": {
    "name": "ipython",
    "version": 3
   },
   "file_extension": ".py",
   "mimetype": "text/x-python",
   "name": "python",
   "nbconvert_exporter": "python",
   "pygments_lexer": "ipython3",
   "version": "3.9.7"
  },
  "vscode": {
   "interpreter": {
    "hash": "d7288e82646d3164eca24130947288f8779d11454649f2c02a5dfc42af7f324c"
   }
  }
 },
 "nbformat": 4,
 "nbformat_minor": 4
}
