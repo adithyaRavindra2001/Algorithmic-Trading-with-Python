{
 "cells": [
  {
   "cell_type": "code",
   "execution_count": 109,
   "id": "c89df92c",
   "metadata": {},
   "outputs": [],
   "source": [
    "import pandas as pd\n",
    "import numpy as np\n",
    "import requests\n",
    "import json\n",
    "import xlsxwriter\n",
    "import math\n",
    "from secrets import IEX_CLOUD_API_TOKEN"
   ]
  },
  {
   "cell_type": "code",
   "execution_count": 110,
   "id": "df000972",
   "metadata": {},
   "outputs": [],
   "source": [
    "stocks=pd.read_csv('sp_500_stocks.csv')"
   ]
  },
  {
   "cell_type": "code",
   "execution_count": 111,
   "id": "dddf4f4f",
   "metadata": {},
   "outputs": [
    {
     "data": {
      "text/html": [
       "<div>\n",
       "<style scoped>\n",
       "    .dataframe tbody tr th:only-of-type {\n",
       "        vertical-align: middle;\n",
       "    }\n",
       "\n",
       "    .dataframe tbody tr th {\n",
       "        vertical-align: top;\n",
       "    }\n",
       "\n",
       "    .dataframe thead th {\n",
       "        text-align: right;\n",
       "    }\n",
       "</style>\n",
       "<table border=\"1\" class=\"dataframe\">\n",
       "  <thead>\n",
       "    <tr style=\"text-align: right;\">\n",
       "      <th></th>\n",
       "      <th>Ticker</th>\n",
       "      <th>latestPrice</th>\n",
       "      <th>marketCap</th>\n",
       "      <th>NumberOfSHaresToBuy</th>\n",
       "    </tr>\n",
       "  </thead>\n",
       "  <tbody>\n",
       "    <tr>\n",
       "      <th>500</th>\n",
       "      <td>YUM</td>\n",
       "      <td>NaN</td>\n",
       "      <td>NaN</td>\n",
       "      <td>NaN</td>\n",
       "    </tr>\n",
       "    <tr>\n",
       "      <th>501</th>\n",
       "      <td>ZBH</td>\n",
       "      <td>NaN</td>\n",
       "      <td>NaN</td>\n",
       "      <td>NaN</td>\n",
       "    </tr>\n",
       "    <tr>\n",
       "      <th>502</th>\n",
       "      <td>ZBRA</td>\n",
       "      <td>NaN</td>\n",
       "      <td>NaN</td>\n",
       "      <td>NaN</td>\n",
       "    </tr>\n",
       "    <tr>\n",
       "      <th>503</th>\n",
       "      <td>ZION</td>\n",
       "      <td>NaN</td>\n",
       "      <td>NaN</td>\n",
       "      <td>NaN</td>\n",
       "    </tr>\n",
       "    <tr>\n",
       "      <th>504</th>\n",
       "      <td>ZTS</td>\n",
       "      <td>NaN</td>\n",
       "      <td>NaN</td>\n",
       "      <td>NaN</td>\n",
       "    </tr>\n",
       "  </tbody>\n",
       "</table>\n",
       "</div>"
      ],
      "text/plain": [
       "    Ticker  latestPrice  marketCap  NumberOfSHaresToBuy\n",
       "500    YUM          NaN        NaN                  NaN\n",
       "501    ZBH          NaN        NaN                  NaN\n",
       "502   ZBRA          NaN        NaN                  NaN\n",
       "503   ZION          NaN        NaN                  NaN\n",
       "504    ZTS          NaN        NaN                  NaN"
      ]
     },
     "execution_count": 111,
     "metadata": {},
     "output_type": "execute_result"
    }
   ],
   "source": [
    "col=['Ticker','latestPrice','marketCap','NumberOfSHaresToBuy']\n",
    "\n",
    "stocks=pd.DataFrame(stocks,columns=['Ticker','latestPrice','marketCap','NumberOfSHaresToBuy'])\n",
    "\n",
    "# stocks.columns=['latestPrice','MarketCap','NumberOfSHaresToBuy']\n",
    "stocks.tail()"
   ]
  },
  {
   "cell_type": "code",
   "execution_count": null,
   "id": "27b0462a",
   "metadata": {},
   "outputs": [],
   "source": []
  },
  {
   "cell_type": "code",
   "execution_count": 112,
   "id": "877490d3",
   "metadata": {},
   "outputs": [],
   "source": [
    "symbol='AAPL'\n",
    "url=F\"https://sandbox.iexapis.com/stable/stock/{symbol}/quote/?token={IEX_CLOUD_API_TOKEN}\""
   ]
  },
  {
   "cell_type": "code",
   "execution_count": 113,
   "id": "39278dc9",
   "metadata": {},
   "outputs": [
    {
     "name": "stdout",
     "output_type": "stream",
     "text": [
      "https://sandbox.iexapis.com/stable/stock/AAPL/quote/?token=Tpk_059b97af715d417d9f49f50b51b1c448\n"
     ]
    }
   ],
   "source": [
    "print(url)\n",
    "r=requests.get(url).json()"
   ]
  },
  {
   "cell_type": "markdown",
   "id": "f079a30c",
   "metadata": {},
   "source": [
    "USING BATCH PROCESSING:\n"
   ]
  },
  {
   "cell_type": "code",
   "execution_count": 114,
   "id": "d8a7bcf0",
   "metadata": {},
   "outputs": [],
   "source": [
    "def chunks(lst,n):\n",
    "    for i in range(0,len(lst),n):\n",
    "        yield lst[i:i+n]"
   ]
  },
  {
   "cell_type": "code",
   "execution_count": 115,
   "id": "6fd6328b",
   "metadata": {},
   "outputs": [],
   "source": [
    "symbol_groups=list(chunks(stocks['Ticker'],100))"
   ]
  },
  {
   "cell_type": "code",
   "execution_count": 116,
   "id": "51f48008",
   "metadata": {},
   "outputs": [],
   "source": [
    "symbol_groups\n",
    "symbol_strings=[]\n",
    "for i in range(len(symbol_groups)):\n",
    "    symbol_strings.append(','.join(symbol_groups[i]))"
   ]
  },
  {
   "cell_type": "code",
   "execution_count": 117,
   "id": "753076eb",
   "metadata": {},
   "outputs": [],
   "source": [
    "stocks_bp=pd.DataFrame(columns=col)"
   ]
  },
  {
   "cell_type": "code",
   "execution_count": 118,
   "id": "292f04ba",
   "metadata": {},
   "outputs": [
    {
     "data": {
      "text/html": [
       "<div>\n",
       "<style scoped>\n",
       "    .dataframe tbody tr th:only-of-type {\n",
       "        vertical-align: middle;\n",
       "    }\n",
       "\n",
       "    .dataframe tbody tr th {\n",
       "        vertical-align: top;\n",
       "    }\n",
       "\n",
       "    .dataframe thead th {\n",
       "        text-align: right;\n",
       "    }\n",
       "</style>\n",
       "<table border=\"1\" class=\"dataframe\">\n",
       "  <thead>\n",
       "    <tr style=\"text-align: right;\">\n",
       "      <th></th>\n",
       "      <th>Ticker</th>\n",
       "      <th>latestPrice</th>\n",
       "      <th>marketCap</th>\n",
       "      <th>NumberOfSHaresToBuy</th>\n",
       "    </tr>\n",
       "  </thead>\n",
       "  <tbody>\n",
       "  </tbody>\n",
       "</table>\n",
       "</div>"
      ],
      "text/plain": [
       "Empty DataFrame\n",
       "Columns: [Ticker, latestPrice, marketCap, NumberOfSHaresToBuy]\n",
       "Index: []"
      ]
     },
     "execution_count": 118,
     "metadata": {},
     "output_type": "execute_result"
    }
   ],
   "source": [
    "stocks_bp.head()"
   ]
  },
  {
   "cell_type": "code",
   "execution_count": 119,
   "id": "5a9f387a",
   "metadata": {},
   "outputs": [],
   "source": [
    "stocks_bp.Ticker=pd.Series(pd.concat(symbol_groups))\n"
   ]
  },
  {
   "cell_type": "code",
   "execution_count": 120,
   "id": "1a7b6396",
   "metadata": {},
   "outputs": [],
   "source": [
    "batch=[]\n",
    "for s in symbol_strings:\n",
    "    url=f\"https://sandbox.iexapis.com/stable/stock/market/batch?symbols={s}&types=quote&token={IEX_CLOUD_API_TOKEN}\"\n",
    "    r=requests.get(url).json()\n",
    "    batch.append(r)"
   ]
  },
  {
   "cell_type": "code",
   "execution_count": 121,
   "id": "9ea2ade3",
   "metadata": {},
   "outputs": [
    {
     "data": {
      "text/plain": [
       "6"
      ]
     },
     "execution_count": 121,
     "metadata": {},
     "output_type": "execute_result"
    }
   ],
   "source": [
    "dp={}\n",
    "dm={}\n",
    "for i in range(len(batch)):\n",
    "    for key in batch[i].keys():\n",
    "        dp[key]=batch[i][key]['quote']['latestPrice']\n",
    "        dm[key]=batch[i][key]['quote']['marketCap']\n",
    "len(batch)"
   ]
  },
  {
   "cell_type": "code",
   "execution_count": 122,
   "id": "5198b96b",
   "metadata": {},
   "outputs": [],
   "source": [
    "s=pd.Series(dp.values())\n",
    "m=pd.Series(dm.values())"
   ]
  },
  {
   "cell_type": "code",
   "execution_count": 123,
   "id": "a97c7b63",
   "metadata": {},
   "outputs": [],
   "source": [
    "stocks_bp.latestPrice=s\n",
    "stocks_bp.marketCap=m"
   ]
  },
  {
   "cell_type": "code",
   "execution_count": 124,
   "id": "c6f93afe",
   "metadata": {},
   "outputs": [],
   "source": [
    "stocks_bp.index=stocks_bp.Ticker"
   ]
  },
  {
   "cell_type": "code",
   "execution_count": 125,
   "id": "2b9bbc93",
   "metadata": {},
   "outputs": [],
   "source": [
    "stocks_bp.drop('Ticker',axis=1,inplace=True)"
   ]
  },
  {
   "cell_type": "code",
   "execution_count": 126,
   "id": "9dcb5eb6",
   "metadata": {},
   "outputs": [],
   "source": [
    "for t in stocks_bp.index:\n",
    "    if t in dp.keys():\n",
    "        stocks_bp.loc[t,'latestPrice']=dp[t]\n",
    "        stocks_bp.loc[t,'marketCap']=dm[t]"
   ]
  },
  {
   "cell_type": "code",
   "execution_count": 127,
   "id": "489e11aa",
   "metadata": {},
   "outputs": [],
   "source": [
    "stocks_bp.NumberOfSHaresToBuy=stocks_bp.NumberOfSHaresToBuy.fillna('N/A')\n"
   ]
  },
  {
   "cell_type": "code",
   "execution_count": 128,
   "id": "29769b94",
   "metadata": {},
   "outputs": [],
   "source": [
    "stocks_bp.to_csv('stocks_bp.csv')"
   ]
  },
  {
   "cell_type": "code",
   "execution_count": 129,
   "id": "fbc2f582",
   "metadata": {},
   "outputs": [
    {
     "data": {
      "text/html": [
       "<div>\n",
       "<style scoped>\n",
       "    .dataframe tbody tr th:only-of-type {\n",
       "        vertical-align: middle;\n",
       "    }\n",
       "\n",
       "    .dataframe tbody tr th {\n",
       "        vertical-align: top;\n",
       "    }\n",
       "\n",
       "    .dataframe thead th {\n",
       "        text-align: right;\n",
       "    }\n",
       "</style>\n",
       "<table border=\"1\" class=\"dataframe\">\n",
       "  <thead>\n",
       "    <tr style=\"text-align: right;\">\n",
       "      <th></th>\n",
       "      <th>latestPrice</th>\n",
       "      <th>marketCap</th>\n",
       "      <th>NumberOfSHaresToBuy</th>\n",
       "    </tr>\n",
       "    <tr>\n",
       "      <th>Ticker</th>\n",
       "      <th></th>\n",
       "      <th></th>\n",
       "      <th></th>\n",
       "    </tr>\n",
       "  </thead>\n",
       "  <tbody>\n",
       "    <tr>\n",
       "      <th>A</th>\n",
       "      <td>118.380</td>\n",
       "      <td>3.419712e+10</td>\n",
       "      <td>N/A</td>\n",
       "    </tr>\n",
       "    <tr>\n",
       "      <th>AAL</th>\n",
       "      <td>13.150</td>\n",
       "      <td>8.401792e+09</td>\n",
       "      <td>N/A</td>\n",
       "    </tr>\n",
       "    <tr>\n",
       "      <th>AAP</th>\n",
       "      <td>171.680</td>\n",
       "      <td>1.034117e+10</td>\n",
       "      <td>N/A</td>\n",
       "    </tr>\n",
       "    <tr>\n",
       "      <th>AAPL</th>\n",
       "      <td>136.856</td>\n",
       "      <td>2.151772e+12</td>\n",
       "      <td>N/A</td>\n",
       "    </tr>\n",
       "    <tr>\n",
       "      <th>ABBV</th>\n",
       "      <td>144.181</td>\n",
       "      <td>2.434140e+11</td>\n",
       "      <td>N/A</td>\n",
       "    </tr>\n",
       "    <tr>\n",
       "      <th>...</th>\n",
       "      <td>...</td>\n",
       "      <td>...</td>\n",
       "      <td>...</td>\n",
       "    </tr>\n",
       "    <tr>\n",
       "      <th>YUM</th>\n",
       "      <td>110.690</td>\n",
       "      <td>3.157973e+10</td>\n",
       "      <td>N/A</td>\n",
       "    </tr>\n",
       "    <tr>\n",
       "      <th>ZBH</th>\n",
       "      <td>106.110</td>\n",
       "      <td>2.255252e+10</td>\n",
       "      <td>N/A</td>\n",
       "    </tr>\n",
       "    <tr>\n",
       "      <th>ZBRA</th>\n",
       "      <td>301.360</td>\n",
       "      <td>1.549958e+10</td>\n",
       "      <td>N/A</td>\n",
       "    </tr>\n",
       "    <tr>\n",
       "      <th>ZION</th>\n",
       "      <td>52.800</td>\n",
       "      <td>8.308950e+09</td>\n",
       "      <td>N/A</td>\n",
       "    </tr>\n",
       "    <tr>\n",
       "      <th>ZTS</th>\n",
       "      <td>163.570</td>\n",
       "      <td>7.783749e+10</td>\n",
       "      <td>N/A</td>\n",
       "    </tr>\n",
       "  </tbody>\n",
       "</table>\n",
       "<p>505 rows × 3 columns</p>\n",
       "</div>"
      ],
      "text/plain": [
       "        latestPrice     marketCap NumberOfSHaresToBuy\n",
       "Ticker                                               \n",
       "A           118.380  3.419712e+10                 N/A\n",
       "AAL          13.150  8.401792e+09                 N/A\n",
       "AAP         171.680  1.034117e+10                 N/A\n",
       "AAPL        136.856  2.151772e+12                 N/A\n",
       "ABBV        144.181  2.434140e+11                 N/A\n",
       "...             ...           ...                 ...\n",
       "YUM         110.690  3.157973e+10                 N/A\n",
       "ZBH         106.110  2.255252e+10                 N/A\n",
       "ZBRA        301.360  1.549958e+10                 N/A\n",
       "ZION         52.800  8.308950e+09                 N/A\n",
       "ZTS         163.570  7.783749e+10                 N/A\n",
       "\n",
       "[505 rows x 3 columns]"
      ]
     },
     "execution_count": 129,
     "metadata": {},
     "output_type": "execute_result"
    }
   ],
   "source": [
    "stocks_bp"
   ]
  },
  {
   "cell_type": "code",
   "execution_count": 130,
   "id": "22175720",
   "metadata": {},
   "outputs": [
    {
     "data": {
      "text/html": [
       "<div>\n",
       "<style scoped>\n",
       "    .dataframe tbody tr th:only-of-type {\n",
       "        vertical-align: middle;\n",
       "    }\n",
       "\n",
       "    .dataframe tbody tr th {\n",
       "        vertical-align: top;\n",
       "    }\n",
       "\n",
       "    .dataframe thead th {\n",
       "        text-align: right;\n",
       "    }\n",
       "</style>\n",
       "<table border=\"1\" class=\"dataframe\">\n",
       "  <thead>\n",
       "    <tr style=\"text-align: right;\">\n",
       "      <th></th>\n",
       "      <th>latestPrice</th>\n",
       "      <th>marketCap</th>\n",
       "      <th>NumberOfSHaresToBuy</th>\n",
       "    </tr>\n",
       "    <tr>\n",
       "      <th>Ticker</th>\n",
       "      <th></th>\n",
       "      <th></th>\n",
       "      <th></th>\n",
       "    </tr>\n",
       "  </thead>\n",
       "  <tbody>\n",
       "    <tr>\n",
       "      <th>A</th>\n",
       "      <td>118.380</td>\n",
       "      <td>3.419712e+10</td>\n",
       "      <td>N/A</td>\n",
       "    </tr>\n",
       "    <tr>\n",
       "      <th>AAL</th>\n",
       "      <td>13.150</td>\n",
       "      <td>8.401792e+09</td>\n",
       "      <td>N/A</td>\n",
       "    </tr>\n",
       "    <tr>\n",
       "      <th>AAP</th>\n",
       "      <td>171.680</td>\n",
       "      <td>1.034117e+10</td>\n",
       "      <td>N/A</td>\n",
       "    </tr>\n",
       "    <tr>\n",
       "      <th>AAPL</th>\n",
       "      <td>136.856</td>\n",
       "      <td>2.151772e+12</td>\n",
       "      <td>N/A</td>\n",
       "    </tr>\n",
       "    <tr>\n",
       "      <th>ABBV</th>\n",
       "      <td>144.181</td>\n",
       "      <td>2.434140e+11</td>\n",
       "      <td>N/A</td>\n",
       "    </tr>\n",
       "  </tbody>\n",
       "</table>\n",
       "</div>"
      ],
      "text/plain": [
       "        latestPrice     marketCap NumberOfSHaresToBuy\n",
       "Ticker                                               \n",
       "A           118.380  3.419712e+10                 N/A\n",
       "AAL          13.150  8.401792e+09                 N/A\n",
       "AAP         171.680  1.034117e+10                 N/A\n",
       "AAPL        136.856  2.151772e+12                 N/A\n",
       "ABBV        144.181  2.434140e+11                 N/A"
      ]
     },
     "execution_count": 130,
     "metadata": {},
     "output_type": "execute_result"
    }
   ],
   "source": [
    "\n",
    "stocks_bp.head()"
   ]
  },
  {
   "cell_type": "code",
   "execution_count": 131,
   "id": "712fd03e",
   "metadata": {},
   "outputs": [
    {
     "data": {
      "text/plain": [
       "latestPrice                    136.856\n",
       "marketCap              2151771687545.0\n",
       "NumberOfSHaresToBuy                N/A\n",
       "Name: AAPL, dtype: object"
      ]
     },
     "execution_count": 131,
     "metadata": {},
     "output_type": "execute_result"
    }
   ],
   "source": [
    "stocks_bp.loc['AAPL']"
   ]
  },
  {
   "cell_type": "code",
   "execution_count": 132,
   "id": "2b7e6925",
   "metadata": {},
   "outputs": [
    {
     "name": "stdout",
     "output_type": "stream",
     "text": [
      "Enter the value of your portfolio: 10000000\n",
      "10000000.0\n"
     ]
    }
   ],
   "source": [
    "portfolio=input('Enter the value of your portfolio: ')\n",
    "try:\n",
    "    portfolio=float(portfolio)\n",
    "except ValueError:\n",
    "    print(\"not int\")\n",
    "    portfolio=input(\"Enter the value of your portfolio:\")\n",
    "    portfolio=float(portfolio)\n",
    "else:\n",
    "    print(portfolio)\n"
   ]
  },
  {
   "cell_type": "code",
   "execution_count": 133,
   "id": "5de9e68b",
   "metadata": {},
   "outputs": [],
   "source": [
    "position_size=portfolio/len(stocks_bp.index)"
   ]
  },
  {
   "cell_type": "code",
   "execution_count": 134,
   "id": "45e43343",
   "metadata": {},
   "outputs": [],
   "source": [
    "number_of_shares=position_size/stocks_bp.loc['AAPL','latestPrice']"
   ]
  },
  {
   "cell_type": "code",
   "execution_count": 135,
   "id": "5fe3afa1",
   "metadata": {},
   "outputs": [
    {
     "data": {
      "text/plain": [
       "144.6920865582788"
      ]
     },
     "execution_count": 135,
     "metadata": {},
     "output_type": "execute_result"
    }
   ],
   "source": [
    "number_of_shares"
   ]
  },
  {
   "cell_type": "code",
   "execution_count": 136,
   "id": "b3838eaa",
   "metadata": {},
   "outputs": [],
   "source": [
    "def calculate_number_of_shares(portfolio,stock):\n",
    "    position_size=portfolio/len(stocks_bp.index)\n",
    "    return position_size/stocks_bp.loc[stock,'latestPrice']"
   ]
  },
  {
   "cell_type": "code",
   "execution_count": null,
   "id": "8e987f4b",
   "metadata": {},
   "outputs": [],
   "source": []
  },
  {
   "cell_type": "code",
   "execution_count": 171,
   "id": "ab0918ba",
   "metadata": {},
   "outputs": [],
   "source": [
    "for stock in stocks_bp.index:\n",
    "    stocks_bp.loc[stock,\"NumberOfSHaresToBuy\"]=math.floor(calculate_number_of_shares(portfolio,stock))\n",
    "    "
   ]
  },
  {
   "cell_type": "code",
   "execution_count": 172,
   "id": "8289de21",
   "metadata": {},
   "outputs": [
    {
     "data": {
      "text/html": [
       "<div>\n",
       "<style scoped>\n",
       "    .dataframe tbody tr th:only-of-type {\n",
       "        vertical-align: middle;\n",
       "    }\n",
       "\n",
       "    .dataframe tbody tr th {\n",
       "        vertical-align: top;\n",
       "    }\n",
       "\n",
       "    .dataframe thead th {\n",
       "        text-align: right;\n",
       "    }\n",
       "</style>\n",
       "<table border=\"1\" class=\"dataframe\">\n",
       "  <thead>\n",
       "    <tr style=\"text-align: right;\">\n",
       "      <th></th>\n",
       "      <th>Ticker</th>\n",
       "      <th>latestPrice</th>\n",
       "      <th>marketCap</th>\n",
       "      <th>NumberOfSHaresToBuy</th>\n",
       "    </tr>\n",
       "  </thead>\n",
       "  <tbody>\n",
       "    <tr>\n",
       "      <th>0</th>\n",
       "      <td>A</td>\n",
       "      <td>NaN</td>\n",
       "      <td>NaN</td>\n",
       "      <td>NaN</td>\n",
       "    </tr>\n",
       "    <tr>\n",
       "      <th>1</th>\n",
       "      <td>AAL</td>\n",
       "      <td>NaN</td>\n",
       "      <td>NaN</td>\n",
       "      <td>NaN</td>\n",
       "    </tr>\n",
       "    <tr>\n",
       "      <th>2</th>\n",
       "      <td>AAP</td>\n",
       "      <td>NaN</td>\n",
       "      <td>NaN</td>\n",
       "      <td>NaN</td>\n",
       "    </tr>\n",
       "    <tr>\n",
       "      <th>3</th>\n",
       "      <td>AAPL</td>\n",
       "      <td>NaN</td>\n",
       "      <td>NaN</td>\n",
       "      <td>NaN</td>\n",
       "    </tr>\n",
       "    <tr>\n",
       "      <th>4</th>\n",
       "      <td>ABBV</td>\n",
       "      <td>NaN</td>\n",
       "      <td>NaN</td>\n",
       "      <td>NaN</td>\n",
       "    </tr>\n",
       "  </tbody>\n",
       "</table>\n",
       "</div>"
      ],
      "text/plain": [
       "  Ticker  latestPrice  marketCap  NumberOfSHaresToBuy\n",
       "0      A          NaN        NaN                  NaN\n",
       "1    AAL          NaN        NaN                  NaN\n",
       "2    AAP          NaN        NaN                  NaN\n",
       "3   AAPL          NaN        NaN                  NaN\n",
       "4   ABBV          NaN        NaN                  NaN"
      ]
     },
     "execution_count": 172,
     "metadata": {},
     "output_type": "execute_result"
    }
   ],
   "source": [
    "stocks_bp['SYMBOL']=stocks_bp.index\n",
    "col_list = list(stocks)\n",
    "col_list[0], col_list[1] = col_list[1], col_list[0]\n",
    "stocks.head()"
   ]
  },
  {
   "cell_type": "code",
   "execution_count": 163,
   "id": "153e257a",
   "metadata": {},
   "outputs": [],
   "source": [
    "\n",
    "\n",
    "\n",
    "\n",
    "\n",
    "\n",
    "writer=pd.ExcelWriter('RecommendedTrades.xlsx',engine='xlsxwriter')\n",
    "stocks_bp.to_excel(writer,'RecommendedTrades',index=False)\n"
   ]
  },
  {
   "cell_type": "code",
   "execution_count": 164,
   "id": "6e694416",
   "metadata": {},
   "outputs": [],
   "source": [
    "backGround='#0a0a23'\n",
    "font='#ffffff'\n",
    "\n",
    "string_format=writer.book.add_format({\n",
    "    'font_color': font,\n",
    "    'bg_color':backGround,\n",
    "    'border':1\n",
    "})\n",
    "\n",
    "dollar_format=writer.book.add_format({\n",
    "    'num_format':'$0.00',\n",
    "    'font_color': font,\n",
    "    'bg_color':backGround,\n",
    "    'border':1\n",
    "})\n",
    "\n",
    "integer_format=writer.book.add_format({\n",
    "    'font_color': font,\n",
    "    'num_format':'0',\n",
    "\n",
    "    'bg_color':backGround,\n",
    "    'border':1\n",
    "})\n",
    "\n"
   ]
  },
  {
   "cell_type": "code",
   "execution_count": 165,
   "id": "111f162a",
   "metadata": {},
   "outputs": [
    {
     "data": {
      "text/plain": [
       "0"
      ]
     },
     "execution_count": 165,
     "metadata": {},
     "output_type": "execute_result"
    }
   ],
   "source": [
    "# writer.sheets['RecommendedTrades'].set_column('A:A',18,string_format)\n",
    "# writer.sheets['RecommendedTrades'].set_column('B:B',18,string_format)\n",
    "\n",
    "# writer.sheets['RecommendedTrades'].set_column('C:C',18,string_format)\n",
    "# writer.sheets['RecommendedTrades'].set_column('D:D',18,string_format)\n",
    "\n",
    "writer.sheets['RecommendedTrades'].write('A1','latestPrice',dollar_format)\n",
    "writer.sheets['RecommendedTrades'].write('B1','MarketCap',dollar_format)\n",
    "writer.sheets['RecommendedTrades'].write('C1','Number of shares',integer_format)\n",
    "writer.sheets['RecommendedTrades'].write('D1','Symbol',string_format)"
   ]
  },
  {
   "cell_type": "code",
   "execution_count": 166,
   "id": "0b3adaa4",
   "metadata": {},
   "outputs": [],
   "source": [
    "column_formats={\n",
    "    'A':['latestPrice',dollar_format],\n",
    "    'B':['marketCap',dollar_format],\n",
    "    'C':['NumberOfSharesToBuy',integer_format],\n",
    "    \n",
    "    'D':['SYMBOL',string_format],\n",
    "}\n",
    "for column in column_formats.keys():\n",
    "    writer.sheets['RecommendedTrades'].set_column(f'{column}:{column}',18,column_formats[column][1])\n",
    "writer.save()"
   ]
  },
  {
   "cell_type": "code",
   "execution_count": null,
   "id": "a6fd82e4",
   "metadata": {},
   "outputs": [],
   "source": [
    "\n",
    "\n"
   ]
  },
  {
   "cell_type": "code",
   "execution_count": null,
   "id": "091f2c1c",
   "metadata": {},
   "outputs": [],
   "source": [
    "\n"
   ]
  },
  {
   "cell_type": "code",
   "execution_count": null,
   "id": "52d73e5b",
   "metadata": {},
   "outputs": [],
   "source": []
  },
  {
   "cell_type": "code",
   "execution_count": null,
   "id": "c3396d46",
   "metadata": {},
   "outputs": [],
   "source": []
  },
  {
   "cell_type": "code",
   "execution_count": null,
   "id": "d6942106",
   "metadata": {},
   "outputs": [],
   "source": []
  },
  {
   "cell_type": "code",
   "execution_count": null,
   "id": "1c0f71a7",
   "metadata": {},
   "outputs": [],
   "source": []
  },
  {
   "cell_type": "code",
   "execution_count": null,
   "id": "5aa0a13e",
   "metadata": {},
   "outputs": [],
   "source": []
  }
 ],
 "metadata": {
  "kernelspec": {
   "display_name": "Python 3 (ipykernel)",
   "language": "python",
   "name": "python3"
  },
  "language_info": {
   "codemirror_mode": {
    "name": "ipython",
    "version": 3
   },
   "file_extension": ".py",
   "mimetype": "text/x-python",
   "name": "python",
   "nbconvert_exporter": "python",
   "pygments_lexer": "ipython3",
   "version": "3.9.7"
  }
 },
 "nbformat": 4,
 "nbformat_minor": 5
}
